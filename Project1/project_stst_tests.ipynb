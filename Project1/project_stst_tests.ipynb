{
 "cells": [
  {
   "cell_type": "markdown",
   "metadata": {},
   "source": [
    "# Проверка гипотез по увеличению выручки в интернет-магазине — оценить результаты A/B теста"
   ]
  },
  {
   "cell_type": "markdown",
   "metadata": {},
   "source": [
    "**Описание задачи:**\n",
    "    \n",
    "Вы — аналитик крупного интернет-магазина. Вместе с отделом маркетинга вы подготовили список гипотез для увеличения выручки.\n",
    "Приоритизируйте гипотезы, запустите A/B-тест и проанализируйте результаты. \n",
    "\n",
    "\n",
    "После интерпретации результатов теста необходимо принять решение:\n",
    "1. Остановить тест, зафиксировать победу одной из групп.\n",
    "2. Остановить тест, зафиксировать отсутствие различий между группами.\n",
    "3. Продолжить тест."
   ]
  },
  {
   "cell_type": "markdown",
   "metadata": {},
   "source": [
    "**План работы:**\n",
    "\n",
    "- Применить два фреймворка для приоритезации гипотез \n",
    "\n",
    "\n",
    "- Построить график кумулятивной выручки по группам\n",
    "\n",
    "\n",
    "- Построить график кумулятивного среднего чека по группам\n",
    "\n",
    "\n",
    "- Построить график относительного изменения кумулятивного среднего чека группы B к группе A. Сделайте выводы и предположения.\n",
    "\n",
    "\n",
    "- Построить график кумулятивного среднего количества заказов на посетителя по группам. Сделайте выводы и предположения.\n",
    "\n",
    "\n",
    "- Построить график относительного изменения кумулятивного среднего количества заказов на посетителя группы B к группе A. \n",
    "\n",
    "\n",
    "- Построить точечный график количества заказов по пользователям.\n",
    "\n",
    "\n",
    "- Посчитать статистическую значимость различий в среднем количестве заказов на посетителя между группами по «сырым» данным. \n",
    "\n",
    "\n",
    "- Посчитать статистическую значимость различий в среднем чеке заказа между группами по «сырым» данным. \n",
    "\n",
    "\n",
    "- Посчитать статистическую значимость различий в среднем количестве заказов на посетителя между группами по «очищенным» данным. \n",
    "\n",
    "\n",
    "- Посчитать статистическую значимость различий в среднем чеке заказа между группами по «очищенным» данным. \n",
    "\n"
   ]
  },
  {
   "cell_type": "markdown",
   "metadata": {},
   "source": [
    "### Описание данных\n",
    "\n",
    "**Данные для первой части**\n",
    "\n",
    "- Hypothesis — краткое описание гипотезы;\n",
    "- Reach — охват пользователей по 10-балльной шкале;\n",
    "- Impact — влияние на пользователей по 10-балльной шкале;\n",
    "- Confidence — уверенность в гипотезе по 10-балльной шкале;\n",
    "- Efforts — затраты ресурсов на проверку гипотезы по 10-балльной шкале. Чем больше значение Efforts, тем дороже проверка гипотезы.\n",
    "\n",
    "**Данные для второй части**\n",
    "\n",
    "*Файл orders.csv*\n",
    "- transactionId — идентификатор заказа;\n",
    "- visitorId — идентификатор пользователя, совершившего заказ;\n",
    "- date — дата, когда был совершён заказ;\n",
    "- revenue — выручка заказа;\n",
    "- group — группа A/B-теста, в которую попал заказ.\n",
    "\n",
    "*Файл visitors.csv*\n",
    "- date — дата;\n",
    "- group — группа A/B-теста;\n",
    "- visitors — количество пользователей в указанную дату в указанной группе A/B-теста"
   ]
  },
  {
   "cell_type": "markdown",
   "metadata": {},
   "source": [
    "## Работа с гипотезами"
   ]
  },
  {
   "cell_type": "code",
   "execution_count": 2,
   "metadata": {},
   "outputs": [],
   "source": [
    "# Загружаем библиотеки\n",
    "import pandas as pd\n",
    "import numpy as np\n",
    "import matplotlib.pyplot as plt\n",
    "import scipy.stats as stats"
   ]
  },
  {
   "cell_type": "markdown",
   "metadata": {},
   "source": [
    "#### Предобработка данных"
   ]
  },
  {
   "cell_type": "code",
   "execution_count": 3,
   "metadata": {},
   "outputs": [],
   "source": [
    "data = pd.read_csv('/datasets/hypothesis.csv')\n",
    "df = pd.DataFrame() \n",
    "cd = pd.DataFrame()"
   ]
  },
  {
   "cell_type": "code",
   "execution_count": 4,
   "metadata": {},
   "outputs": [],
   "source": [
    "# Переименуем столбцы\n",
    "data = data.rename(columns = {'Hypothesis':'hypothesis', 'Reach':'reach', \n",
    "                              'Impact':'impact', 'Confidence':'confidence', 'Efforts':'efforts'})"
   ]
  },
  {
   "cell_type": "code",
   "execution_count": 5,
   "metadata": {},
   "outputs": [],
   "source": [
    "# Расчет показателей\n",
    "data['rice_score'] = data['reach'] * data['impact'] * data['confidence'] / data['efforts']\n",
    "data['ice_score'] = data['confidence'] * data['impact'] / data['efforts']"
   ]
  },
  {
   "cell_type": "code",
   "execution_count": 6,
   "metadata": {},
   "outputs": [
    {
     "data": {
      "text/html": [
       "<div>\n",
       "<style scoped>\n",
       "    .dataframe tbody tr th:only-of-type {\n",
       "        vertical-align: middle;\n",
       "    }\n",
       "\n",
       "    .dataframe tbody tr th {\n",
       "        vertical-align: top;\n",
       "    }\n",
       "\n",
       "    .dataframe thead th {\n",
       "        text-align: right;\n",
       "    }\n",
       "</style>\n",
       "<table border=\"1\" class=\"dataframe\">\n",
       "  <thead>\n",
       "    <tr style=\"text-align: right;\">\n",
       "      <th></th>\n",
       "      <th>hypothesis</th>\n",
       "      <th>reach</th>\n",
       "      <th>impact</th>\n",
       "      <th>confidence</th>\n",
       "      <th>efforts</th>\n",
       "      <th>rice_score</th>\n",
       "      <th>ice_score</th>\n",
       "    </tr>\n",
       "  </thead>\n",
       "  <tbody>\n",
       "    <tr>\n",
       "      <th>0</th>\n",
       "      <td>Добавить два новых канала привлечения трафика,...</td>\n",
       "      <td>3</td>\n",
       "      <td>10</td>\n",
       "      <td>8</td>\n",
       "      <td>6</td>\n",
       "      <td>40.0</td>\n",
       "      <td>13.333333</td>\n",
       "    </tr>\n",
       "    <tr>\n",
       "      <th>1</th>\n",
       "      <td>Запустить собственную службу доставки, что сок...</td>\n",
       "      <td>2</td>\n",
       "      <td>5</td>\n",
       "      <td>4</td>\n",
       "      <td>10</td>\n",
       "      <td>4.0</td>\n",
       "      <td>2.000000</td>\n",
       "    </tr>\n",
       "    <tr>\n",
       "      <th>2</th>\n",
       "      <td>Добавить блоки рекомендаций товаров на сайт ин...</td>\n",
       "      <td>8</td>\n",
       "      <td>3</td>\n",
       "      <td>7</td>\n",
       "      <td>3</td>\n",
       "      <td>56.0</td>\n",
       "      <td>7.000000</td>\n",
       "    </tr>\n",
       "    <tr>\n",
       "      <th>3</th>\n",
       "      <td>Изменить структура категорий, что увеличит кон...</td>\n",
       "      <td>8</td>\n",
       "      <td>3</td>\n",
       "      <td>3</td>\n",
       "      <td>8</td>\n",
       "      <td>9.0</td>\n",
       "      <td>1.125000</td>\n",
       "    </tr>\n",
       "    <tr>\n",
       "      <th>4</th>\n",
       "      <td>Изменить цвет фона главной страницы, чтобы уве...</td>\n",
       "      <td>3</td>\n",
       "      <td>1</td>\n",
       "      <td>1</td>\n",
       "      <td>1</td>\n",
       "      <td>3.0</td>\n",
       "      <td>1.000000</td>\n",
       "    </tr>\n",
       "    <tr>\n",
       "      <th>5</th>\n",
       "      <td>Добавить страницу отзывов клиентов о магазине,...</td>\n",
       "      <td>3</td>\n",
       "      <td>2</td>\n",
       "      <td>2</td>\n",
       "      <td>3</td>\n",
       "      <td>4.0</td>\n",
       "      <td>1.333333</td>\n",
       "    </tr>\n",
       "    <tr>\n",
       "      <th>6</th>\n",
       "      <td>Показать на главной странице баннеры с актуаль...</td>\n",
       "      <td>5</td>\n",
       "      <td>3</td>\n",
       "      <td>8</td>\n",
       "      <td>3</td>\n",
       "      <td>40.0</td>\n",
       "      <td>8.000000</td>\n",
       "    </tr>\n",
       "    <tr>\n",
       "      <th>7</th>\n",
       "      <td>Добавить форму подписки на все основные страни...</td>\n",
       "      <td>10</td>\n",
       "      <td>7</td>\n",
       "      <td>8</td>\n",
       "      <td>5</td>\n",
       "      <td>112.0</td>\n",
       "      <td>11.200000</td>\n",
       "    </tr>\n",
       "    <tr>\n",
       "      <th>8</th>\n",
       "      <td>Запустить акцию, дающую скидку на товар в день...</td>\n",
       "      <td>1</td>\n",
       "      <td>9</td>\n",
       "      <td>9</td>\n",
       "      <td>5</td>\n",
       "      <td>16.2</td>\n",
       "      <td>16.200000</td>\n",
       "    </tr>\n",
       "  </tbody>\n",
       "</table>\n",
       "</div>"
      ],
      "text/plain": [
       "                                          hypothesis  reach  impact  \\\n",
       "0  Добавить два новых канала привлечения трафика,...      3      10   \n",
       "1  Запустить собственную службу доставки, что сок...      2       5   \n",
       "2  Добавить блоки рекомендаций товаров на сайт ин...      8       3   \n",
       "3  Изменить структура категорий, что увеличит кон...      8       3   \n",
       "4  Изменить цвет фона главной страницы, чтобы уве...      3       1   \n",
       "5  Добавить страницу отзывов клиентов о магазине,...      3       2   \n",
       "6  Показать на главной странице баннеры с актуаль...      5       3   \n",
       "7  Добавить форму подписки на все основные страни...     10       7   \n",
       "8  Запустить акцию, дающую скидку на товар в день...      1       9   \n",
       "\n",
       "   confidence  efforts  rice_score  ice_score  \n",
       "0           8        6        40.0  13.333333  \n",
       "1           4       10         4.0   2.000000  \n",
       "2           7        3        56.0   7.000000  \n",
       "3           3        8         9.0   1.125000  \n",
       "4           1        1         3.0   1.000000  \n",
       "5           2        3         4.0   1.333333  \n",
       "6           8        3        40.0   8.000000  \n",
       "7           8        5       112.0  11.200000  \n",
       "8           9        5        16.2  16.200000  "
      ]
     },
     "execution_count": 6,
     "metadata": {},
     "output_type": "execute_result"
    }
   ],
   "source": [
    "data"
   ]
  },
  {
   "cell_type": "markdown",
   "metadata": {},
   "source": [
    "#### Подсчет приоритетности"
   ]
  },
  {
   "cell_type": "code",
   "execution_count": 7,
   "metadata": {},
   "outputs": [
    {
     "data": {
      "text/html": [
       "<div>\n",
       "<style scoped>\n",
       "    .dataframe tbody tr th:only-of-type {\n",
       "        vertical-align: middle;\n",
       "    }\n",
       "\n",
       "    .dataframe tbody tr th {\n",
       "        vertical-align: top;\n",
       "    }\n",
       "\n",
       "    .dataframe thead th {\n",
       "        text-align: right;\n",
       "    }\n",
       "</style>\n",
       "<table border=\"1\" class=\"dataframe\">\n",
       "  <thead>\n",
       "    <tr style=\"text-align: right;\">\n",
       "      <th></th>\n",
       "      <th>hypothesis</th>\n",
       "      <th>rice_score</th>\n",
       "    </tr>\n",
       "  </thead>\n",
       "  <tbody>\n",
       "    <tr>\n",
       "      <th>7</th>\n",
       "      <td>Добавить форму подписки на все основные страни...</td>\n",
       "      <td>112.0</td>\n",
       "    </tr>\n",
       "    <tr>\n",
       "      <th>2</th>\n",
       "      <td>Добавить блоки рекомендаций товаров на сайт ин...</td>\n",
       "      <td>56.0</td>\n",
       "    </tr>\n",
       "    <tr>\n",
       "      <th>0</th>\n",
       "      <td>Добавить два новых канала привлечения трафика,...</td>\n",
       "      <td>40.0</td>\n",
       "    </tr>\n",
       "    <tr>\n",
       "      <th>6</th>\n",
       "      <td>Показать на главной странице баннеры с актуаль...</td>\n",
       "      <td>40.0</td>\n",
       "    </tr>\n",
       "    <tr>\n",
       "      <th>8</th>\n",
       "      <td>Запустить акцию, дающую скидку на товар в день...</td>\n",
       "      <td>16.2</td>\n",
       "    </tr>\n",
       "    <tr>\n",
       "      <th>3</th>\n",
       "      <td>Изменить структура категорий, что увеличит кон...</td>\n",
       "      <td>9.0</td>\n",
       "    </tr>\n",
       "    <tr>\n",
       "      <th>1</th>\n",
       "      <td>Запустить собственную службу доставки, что сок...</td>\n",
       "      <td>4.0</td>\n",
       "    </tr>\n",
       "    <tr>\n",
       "      <th>5</th>\n",
       "      <td>Добавить страницу отзывов клиентов о магазине,...</td>\n",
       "      <td>4.0</td>\n",
       "    </tr>\n",
       "    <tr>\n",
       "      <th>4</th>\n",
       "      <td>Изменить цвет фона главной страницы, чтобы уве...</td>\n",
       "      <td>3.0</td>\n",
       "    </tr>\n",
       "  </tbody>\n",
       "</table>\n",
       "</div>"
      ],
      "text/plain": [
       "                                          hypothesis  rice_score\n",
       "7  Добавить форму подписки на все основные страни...       112.0\n",
       "2  Добавить блоки рекомендаций товаров на сайт ин...        56.0\n",
       "0  Добавить два новых канала привлечения трафика,...        40.0\n",
       "6  Показать на главной странице баннеры с актуаль...        40.0\n",
       "8  Запустить акцию, дающую скидку на товар в день...        16.2\n",
       "3  Изменить структура категорий, что увеличит кон...         9.0\n",
       "1  Запустить собственную службу доставки, что сок...         4.0\n",
       "5  Добавить страницу отзывов клиентов о магазине,...         4.0\n",
       "4  Изменить цвет фона главной страницы, чтобы уве...         3.0"
      ]
     },
     "execution_count": 7,
     "metadata": {},
     "output_type": "execute_result"
    }
   ],
   "source": [
    "df = data[['hypothesis', 'rice_score']]\n",
    "df.sort_values( by = 'rice_score', ascending = False)"
   ]
  },
  {
   "cell_type": "code",
   "execution_count": 8,
   "metadata": {
    "scrolled": true
   },
   "outputs": [
    {
     "data": {
      "text/html": [
       "<div>\n",
       "<style scoped>\n",
       "    .dataframe tbody tr th:only-of-type {\n",
       "        vertical-align: middle;\n",
       "    }\n",
       "\n",
       "    .dataframe tbody tr th {\n",
       "        vertical-align: top;\n",
       "    }\n",
       "\n",
       "    .dataframe thead th {\n",
       "        text-align: right;\n",
       "    }\n",
       "</style>\n",
       "<table border=\"1\" class=\"dataframe\">\n",
       "  <thead>\n",
       "    <tr style=\"text-align: right;\">\n",
       "      <th></th>\n",
       "      <th>hypothesis</th>\n",
       "      <th>ice_score</th>\n",
       "    </tr>\n",
       "  </thead>\n",
       "  <tbody>\n",
       "    <tr>\n",
       "      <th>8</th>\n",
       "      <td>Запустить акцию, дающую скидку на товар в день...</td>\n",
       "      <td>16.200000</td>\n",
       "    </tr>\n",
       "    <tr>\n",
       "      <th>0</th>\n",
       "      <td>Добавить два новых канала привлечения трафика,...</td>\n",
       "      <td>13.333333</td>\n",
       "    </tr>\n",
       "    <tr>\n",
       "      <th>7</th>\n",
       "      <td>Добавить форму подписки на все основные страни...</td>\n",
       "      <td>11.200000</td>\n",
       "    </tr>\n",
       "    <tr>\n",
       "      <th>6</th>\n",
       "      <td>Показать на главной странице баннеры с актуаль...</td>\n",
       "      <td>8.000000</td>\n",
       "    </tr>\n",
       "    <tr>\n",
       "      <th>2</th>\n",
       "      <td>Добавить блоки рекомендаций товаров на сайт ин...</td>\n",
       "      <td>7.000000</td>\n",
       "    </tr>\n",
       "    <tr>\n",
       "      <th>1</th>\n",
       "      <td>Запустить собственную службу доставки, что сок...</td>\n",
       "      <td>2.000000</td>\n",
       "    </tr>\n",
       "    <tr>\n",
       "      <th>5</th>\n",
       "      <td>Добавить страницу отзывов клиентов о магазине,...</td>\n",
       "      <td>1.333333</td>\n",
       "    </tr>\n",
       "    <tr>\n",
       "      <th>3</th>\n",
       "      <td>Изменить структура категорий, что увеличит кон...</td>\n",
       "      <td>1.125000</td>\n",
       "    </tr>\n",
       "    <tr>\n",
       "      <th>4</th>\n",
       "      <td>Изменить цвет фона главной страницы, чтобы уве...</td>\n",
       "      <td>1.000000</td>\n",
       "    </tr>\n",
       "  </tbody>\n",
       "</table>\n",
       "</div>"
      ],
      "text/plain": [
       "                                          hypothesis  ice_score\n",
       "8  Запустить акцию, дающую скидку на товар в день...  16.200000\n",
       "0  Добавить два новых канала привлечения трафика,...  13.333333\n",
       "7  Добавить форму подписки на все основные страни...  11.200000\n",
       "6  Показать на главной странице баннеры с актуаль...   8.000000\n",
       "2  Добавить блоки рекомендаций товаров на сайт ин...   7.000000\n",
       "1  Запустить собственную службу доставки, что сок...   2.000000\n",
       "5  Добавить страницу отзывов клиентов о магазине,...   1.333333\n",
       "3  Изменить структура категорий, что увеличит кон...   1.125000\n",
       "4  Изменить цвет фона главной страницы, чтобы уве...   1.000000"
      ]
     },
     "execution_count": 8,
     "metadata": {},
     "output_type": "execute_result"
    }
   ],
   "source": [
    "cd = data[['hypothesis', 'ice_score']]\n",
    "cd.sort_values( by = 'ice_score', ascending = False)"
   ]
  },
  {
   "cell_type": "markdown",
   "metadata": {},
   "source": [
    "Гипотеза 7: \"Добавить форму подписки на все основные страницы, чтобы собрать базу клиентов для email-рассылок\" оказалась на первом месте в RICE.\n",
    "А в ICE первое место заняла гипотеза 0: Добавить два новых канала привлечения трафика, что позволит привлекать на 30% больше пользователей \n",
    "Это связано с тем, что добавился показатель охвата аудитории (reach), а у 7 гипотезы охват максимальный.\n",
    "В случае работы на большую аудиторию считаю фреймворк RICE более актуальным и отдаю ему предпочтение."
   ]
  },
  {
   "cell_type": "markdown",
   "metadata": {},
   "source": [
    "Вывод: к рассмотрению рекомендуется проверить в первую очередь гипотезу 7."
   ]
  },
  {
   "cell_type": "markdown",
   "metadata": {},
   "source": [
    "## A/B тест"
   ]
  },
  {
   "cell_type": "code",
   "execution_count": 9,
   "metadata": {},
   "outputs": [],
   "source": [
    "orders = pd.read_csv('/datasets/orders.csv')"
   ]
  },
  {
   "cell_type": "code",
   "execution_count": 10,
   "metadata": {},
   "outputs": [],
   "source": [
    "visitors = pd.read_csv('/datasets/visitors.csv') "
   ]
  },
  {
   "cell_type": "markdown",
   "metadata": {},
   "source": [
    "### Предобработка данных"
   ]
  },
  {
   "cell_type": "code",
   "execution_count": 11,
   "metadata": {},
   "outputs": [
    {
     "name": "stdout",
     "output_type": "stream",
     "text": [
      "<class 'pandas.core.frame.DataFrame'>\n",
      "RangeIndex: 1197 entries, 0 to 1196\n",
      "Data columns (total 5 columns):\n",
      " #   Column         Non-Null Count  Dtype \n",
      "---  ------         --------------  ----- \n",
      " 0   transactionId  1197 non-null   int64 \n",
      " 1   visitorId      1197 non-null   int64 \n",
      " 2   date           1197 non-null   object\n",
      " 3   revenue        1197 non-null   int64 \n",
      " 4   group          1197 non-null   object\n",
      "dtypes: int64(3), object(2)\n",
      "memory usage: 46.9+ KB\n"
     ]
    }
   ],
   "source": [
    "# Рассмотрим типы данных\n",
    "orders.info()"
   ]
  },
  {
   "cell_type": "code",
   "execution_count": 12,
   "metadata": {},
   "outputs": [
    {
     "data": {
      "text/plain": [
       "0"
      ]
     },
     "execution_count": 12,
     "metadata": {},
     "output_type": "execute_result"
    }
   ],
   "source": [
    "# Проверка на полные дупликаты\n",
    "orders.duplicated().sum()"
   ]
  },
  {
   "cell_type": "code",
   "execution_count": 13,
   "metadata": {},
   "outputs": [
    {
     "name": "stdout",
     "output_type": "stream",
     "text": [
      "<class 'pandas.core.frame.DataFrame'>\n",
      "RangeIndex: 62 entries, 0 to 61\n",
      "Data columns (total 3 columns):\n",
      " #   Column    Non-Null Count  Dtype \n",
      "---  ------    --------------  ----- \n",
      " 0   date      62 non-null     object\n",
      " 1   group     62 non-null     object\n",
      " 2   visitors  62 non-null     int64 \n",
      "dtypes: int64(1), object(2)\n",
      "memory usage: 1.6+ KB\n"
     ]
    }
   ],
   "source": [
    "# Рассмотрим типы данных\n",
    "visitors.info()"
   ]
  },
  {
   "cell_type": "code",
   "execution_count": 14,
   "metadata": {},
   "outputs": [
    {
     "data": {
      "text/plain": [
       "0"
      ]
     },
     "execution_count": 14,
     "metadata": {},
     "output_type": "execute_result"
    }
   ],
   "source": [
    "# Проверка на полные дупликаты\n",
    "visitors.duplicated().sum()"
   ]
  },
  {
   "cell_type": "code",
   "execution_count": 15,
   "metadata": {},
   "outputs": [
    {
     "name": "stdout",
     "output_type": "stream",
     "text": [
      "1135\n",
      "0\n"
     ]
    }
   ],
   "source": [
    "# Удалим дупликаты для определенных столбцов\n",
    "print(orders[['date','group']].duplicated().sum())\n",
    "\n",
    "filtred = orders[['date','group']].drop_duplicates()\n",
    "\n",
    "print(filtred[['date','group']].duplicated().sum())"
   ]
  },
  {
   "cell_type": "code",
   "execution_count": 16,
   "metadata": {},
   "outputs": [],
   "source": [
    "# Приведём к нижнему регистру и добавим нужнее подчёркивание для удобства чтения\n",
    "\n",
    "orders.columns = orders.columns.str.replace('Id', '_id') \n",
    "\n",
    "# Приведём столбцы с датой к типу datetime\n",
    "\n",
    "orders['date'] = pd.to_datetime(orders['date'], format = '%Y-%m-%d')\n",
    "visitors['date'] = pd.to_datetime(visitors['date'], format = '%Y-%m-%d') "
   ]
  },
  {
   "cell_type": "markdown",
   "metadata": {},
   "source": [
    "### Подготовка данных для построения графиков"
   ]
  },
  {
   "cell_type": "code",
   "execution_count": 17,
   "metadata": {},
   "outputs": [],
   "source": [
    "ordersAggregated = (filtred\n",
    "        .apply(lambda x: orders[np.logical_and(orders['date'] <= x['date'], orders['group'] == x['group'])]\n",
    "        .agg({'date' : 'max', 'group' : 'max', 'transaction_id' : 'nunique', 'visitor_id' : 'nunique', \n",
    "              'revenue' : 'sum'}), axis=1).sort_values(by=['date','group']))"
   ]
  },
  {
   "cell_type": "code",
   "execution_count": 18,
   "metadata": {},
   "outputs": [],
   "source": [
    "visitorsAggregated = (filtred\n",
    "        .apply(lambda x: visitors[np.logical_and(visitors['date'] <= x['date'], visitors['group'] == x['group'])]\n",
    "        .agg({'date' : 'max', 'group' : 'max', 'visitors' : 'sum'}), axis=1).sort_values(by=['date','group']))"
   ]
  },
  {
   "cell_type": "code",
   "execution_count": 19,
   "metadata": {},
   "outputs": [],
   "source": [
    "commonframe = ordersAggregated.merge(\n",
    "    visitorsAggregated, left_on=['date', 'group'], right_on=['date', 'group']\n",
    ")"
   ]
  },
  {
   "cell_type": "code",
   "execution_count": 20,
   "metadata": {},
   "outputs": [
    {
     "data": {
      "text/html": [
       "<div>\n",
       "<style scoped>\n",
       "    .dataframe tbody tr th:only-of-type {\n",
       "        vertical-align: middle;\n",
       "    }\n",
       "\n",
       "    .dataframe tbody tr th {\n",
       "        vertical-align: top;\n",
       "    }\n",
       "\n",
       "    .dataframe thead th {\n",
       "        text-align: right;\n",
       "    }\n",
       "</style>\n",
       "<table border=\"1\" class=\"dataframe\">\n",
       "  <thead>\n",
       "    <tr style=\"text-align: right;\">\n",
       "      <th></th>\n",
       "      <th>date</th>\n",
       "      <th>group</th>\n",
       "      <th>transaction_id</th>\n",
       "      <th>visitor_id</th>\n",
       "      <th>revenue</th>\n",
       "      <th>visitors</th>\n",
       "    </tr>\n",
       "  </thead>\n",
       "  <tbody>\n",
       "    <tr>\n",
       "      <th>0</th>\n",
       "      <td>2019-08-01</td>\n",
       "      <td>A</td>\n",
       "      <td>24</td>\n",
       "      <td>20</td>\n",
       "      <td>148579</td>\n",
       "      <td>719</td>\n",
       "    </tr>\n",
       "    <tr>\n",
       "      <th>1</th>\n",
       "      <td>2019-08-01</td>\n",
       "      <td>B</td>\n",
       "      <td>21</td>\n",
       "      <td>20</td>\n",
       "      <td>101217</td>\n",
       "      <td>713</td>\n",
       "    </tr>\n",
       "    <tr>\n",
       "      <th>2</th>\n",
       "      <td>2019-08-02</td>\n",
       "      <td>A</td>\n",
       "      <td>44</td>\n",
       "      <td>38</td>\n",
       "      <td>242401</td>\n",
       "      <td>1338</td>\n",
       "    </tr>\n",
       "    <tr>\n",
       "      <th>3</th>\n",
       "      <td>2019-08-02</td>\n",
       "      <td>B</td>\n",
       "      <td>45</td>\n",
       "      <td>43</td>\n",
       "      <td>266748</td>\n",
       "      <td>1294</td>\n",
       "    </tr>\n",
       "    <tr>\n",
       "      <th>4</th>\n",
       "      <td>2019-08-03</td>\n",
       "      <td>A</td>\n",
       "      <td>68</td>\n",
       "      <td>62</td>\n",
       "      <td>354874</td>\n",
       "      <td>1845</td>\n",
       "    </tr>\n",
       "  </tbody>\n",
       "</table>\n",
       "</div>"
      ],
      "text/plain": [
       "        date group  transaction_id  visitor_id  revenue  visitors\n",
       "0 2019-08-01     A              24          20   148579       719\n",
       "1 2019-08-01     B              21          20   101217       713\n",
       "2 2019-08-02     A              44          38   242401      1338\n",
       "3 2019-08-02     B              45          43   266748      1294\n",
       "4 2019-08-03     A              68          62   354874      1845"
      ]
     },
     "execution_count": 20,
     "metadata": {},
     "output_type": "execute_result"
    }
   ],
   "source": [
    "commonframe.head(5)"
   ]
  },
  {
   "cell_type": "code",
   "execution_count": 21,
   "metadata": {},
   "outputs": [],
   "source": [
    "cumulative_dataA = commonframe[commonframe['group'] == 'A']\n",
    "cumulative_dataB = commonframe[commonframe['group'] == 'B']"
   ]
  },
  {
   "cell_type": "markdown",
   "metadata": {},
   "source": [
    "### Кумулятивная выручка"
   ]
  },
  {
   "cell_type": "code",
   "execution_count": 22,
   "metadata": {
    "scrolled": false
   },
   "outputs": [
    {
     "data": {
      "image/png": "[encoded data removed]",
      "text/plain": [
       "<Figure size 864x576 with 1 Axes>"
      ]
     },
     "metadata": {
      "needs_background": "light"
     },
     "output_type": "display_data"
    }
   ],
   "source": [
    "plt.figure(figsize=(12,8))  \n",
    "\n",
    "# Строим график выручки группы А\n",
    "plt.plot(cumulative_dataA['date'], cumulative_dataA['revenue']/1000000, label='A')\n",
    "\n",
    "# Строим график выручки группы B\n",
    "plt.plot(cumulative_dataB['date'], cumulative_dataB['revenue']/1000000, label='B')\n",
    "\n",
    "plt.legend(['Группа А', 'Группа B']) \n",
    "plt.xlabel('Дата')\n",
    "plt.title('Кумулятивная выручка по группам')\n",
    "plt.ylabel('Выручка, млн') \n",
    "plt.show() "
   ]
  },
  {
   "cell_type": "markdown",
   "metadata": {},
   "source": [
    "Графики плавные и расвномерно растут, что говорит о верном построении. \n",
    "По началу графики обоих групп показывают примерно одинаковый рост, но начиная приблизительно с 19.08.19 у группы B произошел резкий всплеск выручки."
   ]
  },
  {
   "cell_type": "markdown",
   "metadata": {},
   "source": [
    "### Средний чек"
   ]
  },
  {
   "cell_type": "code",
   "execution_count": 23,
   "metadata": {},
   "outputs": [
    {
     "data": {
      "image/png": "[encoded data removed]",
      "text/plain": [
       "<Figure size 864x576 with 1 Axes>"
      ]
     },
     "metadata": {
      "needs_background": "light"
     },
     "output_type": "display_data"
    }
   ],
   "source": [
    "plt.figure(figsize=(12,8))\n",
    "\n",
    "plt.plot(cumulative_dataA['date'], cumulative_dataA['revenue']/cumulative_dataA['transaction_id'], label='A')\n",
    "plt.plot(cumulative_dataB['date'], cumulative_dataB['revenue']/cumulative_dataB['transaction_id'], label='B')\n",
    "\n",
    "plt.legend(['Группа А', 'Группа B']) \n",
    "plt.xlabel('Дата')\n",
    "plt.ylabel('Средний чек')\n",
    "plt.title('Величина среднего чека по группам')\n",
    "plt.show() "
   ]
  },
  {
   "cell_type": "markdown",
   "metadata": {},
   "source": [
    "На графике среднего чека так же заметен скачок у группы B, в тот же промежуток времени, видимо, в этот момент произошли какие-то дорогие покупки. Однако, к концу рассматриваемого периода у группы B наметилась тенденция к снижению. Следует продолжить тест, чтобы уточнить этот момент."
   ]
  },
  {
   "cell_type": "markdown",
   "metadata": {},
   "source": [
    "### Соотношение средних чеков"
   ]
  },
  {
   "cell_type": "code",
   "execution_count": 24,
   "metadata": {},
   "outputs": [
    {
     "data": {
      "text/plain": [
       "<matplotlib.lines.Line2D at 0x7f7a94d09c70>"
      ]
     },
     "execution_count": 24,
     "metadata": {},
     "output_type": "execute_result"
    },
    {
     "data": {
      "image/png": "[encoded data removed]",
      "text/plain": [
       "<Figure size 864x576 with 1 Axes>"
      ]
     },
     "metadata": {
      "needs_background": "light"
     },
     "output_type": "display_data"
    }
   ],
   "source": [
    "# Cобираем данные в одном датафрейме\n",
    "\n",
    "merged_cumulative_revenue = cumulative_dataA.merge(cumulative_dataB, left_on='date', right_on='date', \n",
    "                                                   how='left', suffixes=['A', 'B'])\n",
    "\n",
    "# Cтроим отношение средних чеков\n",
    "\n",
    "plt.figure(figsize=(12,8))\n",
    "plt.plot(merged_cumulative_revenue['date'], \n",
    "         (merged_cumulative_revenue['revenueB']/merged_cumulative_revenue['transaction_idB'])/\n",
    "         (merged_cumulative_revenue['revenueA']/merged_cumulative_revenue['transaction_idA'])-1)\n",
    "\n",
    "plt.legend(['Группа B/A']) \n",
    "plt.xlabel('Дата')\n",
    "plt.ylabel('Отношение средних чеков')\n",
    "plt.title('Соотношение средних чеков по группам')\n",
    "\n",
    "# Добавляем ось X\n",
    "\n",
    "plt.axhline(y=0, color='black', linestyle='--') "
   ]
  },
  {
   "cell_type": "markdown",
   "metadata": {},
   "source": [
    "График в целом отражает картину полученную раньше, в тех периодах, где график B группы был выше группы A соотношение средних чеков положительное. Можно отметить не постояноство и скачкообразный характер зависимости."
   ]
  },
  {
   "cell_type": "markdown",
   "metadata": {},
   "source": [
    "### Кумулятивная конверсия"
   ]
  },
  {
   "cell_type": "code",
   "execution_count": 25,
   "metadata": {},
   "outputs": [
    {
     "data": {
      "text/plain": [
       "<matplotlib.legend.Legend at 0x7f7a94cf7df0>"
      ]
     },
     "execution_count": 25,
     "metadata": {},
     "output_type": "execute_result"
    },
    {
     "data": {
      "image/png": "[encoded data removed]",
      "text/plain": [
       "<Figure size 864x576 with 1 Axes>"
      ]
     },
     "metadata": {
      "needs_background": "light"
     },
     "output_type": "display_data"
    }
   ],
   "source": [
    "# Считаем кумулятивную конверсию\n",
    "commonframe['conversion'] = commonframe['transaction_id']/commonframe['visitors']\n",
    "\n",
    "# Отделяем данные по группе A\n",
    "cumulative_dataA = commonframe[commonframe['group']=='A']\n",
    "\n",
    "# Отделяем данные по группе B\n",
    "cumulative_dataB = commonframe[commonframe['group']=='B']\n",
    "\n",
    "# Строим графики\n",
    "plt.figure(figsize=(12,8))\n",
    "plt.plot(cumulative_dataA['date'], cumulative_dataA['conversion'], label='Группа А')\n",
    "plt.plot(cumulative_dataB['date'], cumulative_dataB['conversion'], label='Группа B')\n",
    "plt.xlabel('Дата')\n",
    "plt.ylabel('Среднее число заказов в группе')\n",
    "plt.title('Кумулятивное среднее число заказов на посетителя по группам')\n",
    "plt.legend()"
   ]
  },
  {
   "cell_type": "markdown",
   "metadata": {},
   "source": [
    "Графики конверсии имеют определенные флуктуации, но ближе к концу значения колеблются возле 0.034 для B, и 0.03 для А.Метрика стабилизировалась дополнительного времени на продолжение теста не требуется."
   ]
  },
  {
   "cell_type": "markdown",
   "metadata": {},
   "source": [
    "### Относительное различие кумулятивной конверсии"
   ]
  },
  {
   "cell_type": "code",
   "execution_count": 26,
   "metadata": {},
   "outputs": [
    {
     "data": {
      "text/plain": [
       "<matplotlib.lines.Line2D at 0x7f7a94c56bb0>"
      ]
     },
     "execution_count": 26,
     "metadata": {},
     "output_type": "execute_result"
    },
    {
     "data": {
      "image/png": "[encoded data removed]",
      "text/plain": [
       "<Figure size 864x576 with 1 Axes>"
      ]
     },
     "metadata": {
      "needs_background": "light"
     },
     "output_type": "display_data"
    }
   ],
   "source": [
    "merged_cumulative_conversions = (cumulative_dataA[['date','conversion']]\n",
    "    .merge(cumulative_dataB[['date','conversion']], left_on='date', right_on='date', how='left', suffixes=['A', 'B']))\n",
    "\n",
    "\n",
    "plt.figure(figsize=(12,8))\n",
    "\n",
    "plt.plot(merged_cumulative_conversions['date'], \n",
    "         merged_cumulative_conversions['conversionB']/merged_cumulative_conversions['conversionA']-1, \n",
    "         label=\"Относительное изменение группы В/А\")\n",
    "\n",
    "plt.legend(['Группа B/A']) \n",
    "plt.xlabel('Дата')\n",
    "plt.ylabel('Отношение среднего числа заказов')\n",
    "plt.title('Соотношение среднего числа заказов по группам')\n",
    "plt.axhline(y=0, color='black', linestyle='--')\n",
    "plt.axhline(y=0.1, color='black', linestyle='--')"
   ]
  },
  {
   "cell_type": "markdown",
   "metadata": {},
   "source": [
    "График отражает периоды, когда конверсия группы B была выше, чем группы А. Отметим, что на протяжении почти всего теста число заказов группы B было выше более чем на 10%"
   ]
  },
  {
   "cell_type": "markdown",
   "metadata": {},
   "source": [
    "### Точечный график количества заказов по пользователям"
   ]
  },
  {
   "cell_type": "code",
   "execution_count": 27,
   "metadata": {},
   "outputs": [
    {
     "data": {
      "image/png": "[encoded data removed]",
      "text/plain": [
       "<Figure size 864x576 with 1 Axes>"
      ]
     },
     "metadata": {
      "needs_background": "light"
     },
     "output_type": "display_data"
    }
   ],
   "source": [
    "# Создадим сводную таблицу с кол-вом закзазов для каждого пользователя \n",
    "\n",
    "orders_count = (\n",
    "    orders.groupby('visitor_id', as_index=False)\n",
    "    .agg({'transaction_id': 'nunique'})\n",
    ")\n",
    "\n",
    "orders_count.sort_values(by='transaction_id', ascending=False) \n",
    "# Построим график\n",
    "x_values = pd.Series(range(0, len(orders_count)))\n",
    "\n",
    "plt.figure(figsize=(12,8)) \n",
    " \n",
    "plt.scatter(x_values, orders_count['transaction_id'])  \n",
    "\n",
    "plt.ylabel('Кол-во заказов') \n",
    "plt.xlabel('Кол-во пользователей') \n",
    "plt.title('Распределение по количеству заказов')\n",
    "plt.show() "
   ]
  },
  {
   "cell_type": "markdown",
   "metadata": {},
   "source": [
    "Много пользователей с 1 и 2 заказами, 3 и более уже редкость"
   ]
  },
  {
   "cell_type": "markdown",
   "metadata": {},
   "source": [
    "#### Подсчёт 95-й и 99-й перцентилей количества заказов на пользователя. Опредления границы для аномальных пользователей"
   ]
  },
  {
   "cell_type": "code",
   "execution_count": 28,
   "metadata": {},
   "outputs": [
    {
     "name": "stdout",
     "output_type": "stream",
     "text": [
      "[2. 4.]\n"
     ]
    }
   ],
   "source": [
    "print(np.percentile(orders_count['transaction_id'], [95, 99])) "
   ]
  },
  {
   "cell_type": "code",
   "execution_count": 29,
   "metadata": {},
   "outputs": [],
   "source": [
    "limit_order = 3 "
   ]
  },
  {
   "cell_type": "markdown",
   "metadata": {},
   "source": [
    "#### Подсчёт 95-й и 99-й перцентилей стоимости заказов и построение точечной диаграмы. Опредления границы для аномальных пользователей"
   ]
  },
  {
   "cell_type": "code",
   "execution_count": 32,
   "metadata": {},
   "outputs": [
    {
     "data": {
      "image/png": "[encoded data removed]",
      "text/plain": [
       "<Figure size 864x576 with 1 Axes>"
      ]
     },
     "metadata": {
      "needs_background": "light"
     },
     "output_type": "display_data"
    }
   ],
   "source": [
    "# Серия из чисел от 0 до количества наблюдений в orders \n",
    "x_values = pd.Series(range(0, len(orders_new['revenue'])))\n",
    "\n",
    "plt.figure(figsize=(12,8))\n",
    "\n",
    "# Избавимся от выбросов в стоимости заказов\n",
    "orders_new = orders[orders['revenue'] < 200000]\n",
    "\n",
    "# Построим график \n",
    "orders_new = orders[orders['revenue'] < 200000]\n",
    "scattter_plot = plt.scatter(x_values, orders_new['revenue']/1000)  \n",
    "plt.ylabel('Стоимость заказов, тыс') \n",
    "plt.xlabel('Кол-во пользователей') \n",
    "\n",
    "plt.title('Распределение по стоимости заказов')\n",
    "plt.show() "
   ]
  },
  {
   "cell_type": "markdown",
   "metadata": {},
   "source": [
    "Есть определенные выбросы дорогих заказов, но ниже 20.000 сложно разобрать частоту появления, лучше опираться на перцентили."
   ]
  },
  {
   "cell_type": "code",
   "execution_count": null,
   "metadata": {},
   "outputs": [],
   "source": [
    "print(np.percentile(orders['revenue'], [95, 99]))  "
   ]
  },
  {
   "cell_type": "code",
   "execution_count": null,
   "metadata": {},
   "outputs": [],
   "source": [
    "limit_revenue = 35000"
   ]
  },
  {
   "cell_type": "markdown",
   "metadata": {},
   "source": [
    "### Подсчет статистической значимости различий в среднем количестве заказов на посетителя между группами по «сырым» данным."
   ]
  },
  {
   "cell_type": "code",
   "execution_count": null,
   "metadata": {},
   "outputs": [],
   "source": [
    "# Таблицы с данными по заказам на каждого пользователя\n",
    "\n",
    "orders_by_users_a = orders[orders['group']=='A'].groupby('visitor_id')['transaction_id'].nunique().reset_index()\n",
    "orders_by_users_a.columns=['visitors_id','orders']\n",
    "\n",
    "orders_by_users_b = orders[orders['group']=='B'].groupby('visitor_id')['transaction_id'].nunique().reset_index()\n",
    "orders_by_users_b.columns=['visitors_id','orders'] "
   ]
  },
  {
   "cell_type": "code",
   "execution_count": null,
   "metadata": {},
   "outputs": [],
   "source": [
    "sample_a = pd.concat(\n",
    "    [\n",
    "        orders_by_users_a['orders'],\n",
    "        pd.Series(0, \n",
    "                  index=np.arange\n",
    "                  (visitors[visitors['group']=='A']['visitors'].sum() - len(orders_by_users_a['orders'])\n",
    "                  ),\n",
    "                  name='orders'\n",
    "                 )\n",
    "    ],\n",
    "    axis=0)\n",
    "sample_b = pd.concat(\n",
    "    [\n",
    "        orders_by_users_b['orders'],\n",
    "        pd.Series\n",
    "        (0,\n",
    "         index=np.arange(\n",
    "             visitors[visitors['group']=='B']['visitors'].sum() - len(orders_by_users_b['orders'])\n",
    "         ),\n",
    "         name='orders'\n",
    "        )\n",
    "    ],\n",
    "    axis=0)"
   ]
  },
  {
   "cell_type": "markdown",
   "metadata": {},
   "source": [
    "### Тест Манна-Уитни"
   ]
  },
  {
   "cell_type": "markdown",
   "metadata": {},
   "source": [
    "**Нулевая гипотеза:** Конверсии в группах одинаковые\n",
    "\n",
    "**Альтернативная гипотеза:** Различия между конверсиями есть"
   ]
  },
  {
   "cell_type": "code",
   "execution_count": null,
   "metadata": {},
   "outputs": [],
   "source": [
    "result_1 = stats.mannwhitneyu(sample_a, sample_b)[1]\n",
    "\n",
    "# Зададим aplha как 0.05\n",
    "alpha = 0.05\n",
    "\n",
    "\n",
    "print(f'Значение p-value : {result_1}')\n",
    "if result_1 < alpha:\n",
    "    print(\"Отвергаем нулевую гипотезу\")\n",
    "else:\n",
    "    print(\"Не получилось отвергнуть нулевую гипотезу\")  \n",
    "print('Среднее количество заказов на посетителя группы А: {:.1%}'.format(sample_a.mean()))\n",
    "print('Среднее количество заказов на посетителя группы B: {:.1%}'.format(sample_b.mean())) \n",
    "print('Относительная разница показателей: {:.3}'.format(sample_b.mean() / sample_a.mean())) "
   ]
  },
  {
   "cell_type": "markdown",
   "metadata": {},
   "source": [
    "Исходя из теста разница между конверсиями в группах статистически значима (при уровне значимости в 0.05)"
   ]
  },
  {
   "cell_type": "markdown",
   "metadata": {},
   "source": [
    "**Нулевая гипотеза:** Средний чек в группах одинаковый\n",
    "\n",
    "**Альтернативная гипотеза:** Средний чек в группах разный"
   ]
  },
  {
   "cell_type": "code",
   "execution_count": null,
   "metadata": {},
   "outputs": [],
   "source": [
    "result_2 = stats.mannwhitneyu(orders[orders['group']=='A']['revenue'], orders[orders['group']=='B']['revenue'])[1]  \n",
    "\n",
    "\n",
    "print(f'Значение p-value : {result_2}')\n",
    "if result_2 < alpha:\n",
    "    print(\"Отвергаем нулевую гипотезу\")\n",
    "else:\n",
    "    print(\"Не получилось отвергнуть нулевую гипотезу\")  \n",
    "\n",
    "    \n",
    "print('Средний чек группы А: {:.2f}'.format(orders[orders['group']=='A']['revenue'].mean()))\n",
    "print('Средний чек группы B: {:.2f}'.format(orders[orders['group']=='B']['revenue'].mean())) \n",
    "print('Относительная разница показателей: {:.2f}'.format(orders[orders['group']=='B']['revenue'].mean() / \n",
    "                                                         orders[orders['group']=='A']['revenue'].mean())) "
   ]
  },
  {
   "cell_type": "markdown",
   "metadata": {},
   "source": [
    "Исходя из теста статистически значимых различий между средними чеками нет (при альфа = 0.05), не смотря на то, что математическая разница между значениями более 20%"
   ]
  },
  {
   "cell_type": "markdown",
   "metadata": {},
   "source": [
    "### Подсчет статистической значимости различий в среднем количестве заказов на посетителя между группами по «чистым» данным."
   ]
  },
  {
   "cell_type": "markdown",
   "metadata": {},
   "source": [
    "Проверим гипотезы для отфильтрованных пользователей"
   ]
  },
  {
   "cell_type": "code",
   "execution_count": null,
   "metadata": {},
   "outputs": [],
   "source": [
    "# Выберем не типичных пользователей \n",
    "many_orders = pd.concat(\n",
    "    [\n",
    "        orders_by_users_a[orders_by_users_a['orders'] > limit_order]['visitors_id'],\n",
    "        orders_by_users_b[orders_by_users_b['orders'] > limit_order]['visitors_id'],\n",
    "    ],\n",
    "    axis=0,\n",
    ")\n",
    "\n",
    "expensive_orders = orders[orders['revenue'] > limit_revenue]['visitor_id']\n",
    "\n",
    "# Объединяем их в один датафрейм \n",
    "abnormal_users = (\n",
    "    pd.concat([many_orders, expensive_orders], axis=0)\n",
    "    .drop_duplicates()\n",
    "    .sort_values()\n",
    ")\n",
    "print(abnormal_users.head(5))\n",
    "print(' ')\n",
    "print('Кол-во анамальных пользователей: ', abnormal_users.shape[0])"
   ]
  },
  {
   "cell_type": "code",
   "execution_count": null,
   "metadata": {},
   "outputs": [],
   "source": [
    "# Отфильтруем данные в группе А\n",
    "sample_a_filtered = pd.concat(\n",
    "    [\n",
    "        orders_by_users_a[\n",
    "            np.logical_not(orders_by_users_a['visitors_id'].isin(abnormal_users))\n",
    "        ]['orders'],\n",
    "        pd.Series(\n",
    "            0,\n",
    "            index=np.arange(\n",
    "                visitors[visitors['group']=='A']['visitors'].sum() - len(orders_by_users_a['orders'])\n",
    "            ),\n",
    "            name='orders',\n",
    "        ),\n",
    "    ],\n",
    "    axis=0,\n",
    ")\n",
    "\n",
    "# Отфильтруем данные в группе В\n",
    "sample_b_filtered = pd.concat(\n",
    "    [\n",
    "        orders_by_users_b[\n",
    "            np.logical_not(orders_by_users_b['visitors_id'].isin(abnormal_users))\n",
    "        ]['orders'],\n",
    "        pd.Series(\n",
    "            0,\n",
    "            index=np.arange(\n",
    "                visitors[visitors['group']=='B']['visitors'].sum() - len(orders_by_users_b['orders'])\n",
    "            ),\n",
    "            name='orders',\n",
    "        ),\n",
    "    ],\n",
    "    axis=0,\n",
    ")  "
   ]
  },
  {
   "cell_type": "markdown",
   "metadata": {},
   "source": [
    "Проверяем те же гипотезы, но для 'чистых' данных\n",
    "\n",
    "**Нулевая гипотеза:** Конверсии в группах одинаковые\n",
    "\n",
    "**Альтернативная гипотеза:** Конверсии в группах различны"
   ]
  },
  {
   "cell_type": "code",
   "execution_count": null,
   "metadata": {},
   "outputs": [],
   "source": [
    "result_3 = stats.mannwhitneyu(sample_a_filtered, sample_b_filtered)[1] \n",
    "\n",
    "\n",
    "print(f'Значение p-value : {result_3}') \n",
    "\n",
    "if result_3 < alpha:\n",
    "    print(\"Отвергаем нулевую гипотезу\")\n",
    "else:\n",
    "    print(\"Не получилось отвергнуть нулевую гипотезу\") \n",
    "print('Среднее количество заказов на посетителя группы А: {:.1%}'.format(sample_a_filtered.mean()))\n",
    "print('Среднее количество заказов на посетителя группы B: {:.1%}'.format(sample_b_filtered.mean())) \n",
    "print('Относительная разница показателей: {:.3}'.format(sample_b_filtered.mean() / sample_a_filtered.mean())) "
   ]
  },
  {
   "cell_type": "markdown",
   "metadata": {},
   "source": [
    "Результат аналогичен тесту для не фильтрованных даннных, конверсии имеют статистически значимые различия при уровне зачимости = 0.05"
   ]
  },
  {
   "cell_type": "markdown",
   "metadata": {},
   "source": [
    "\n",
    "**Нулевая гипотеза:** Средний чек в группах одинаковый\n",
    "\n",
    "**Альтернативная гипотеза:** Средний чек в группах различный"
   ]
  },
  {
   "cell_type": "code",
   "execution_count": null,
   "metadata": {},
   "outputs": [],
   "source": [
    "result4 = stats.mannwhitneyu(\n",
    "    orders[np.logical_and(\n",
    "        orders['group']=='A',\n",
    "        np.logical_not(orders['visitor_id'].isin(abnormal_users)))]['revenue'],\n",
    "    orders[np.logical_and(\n",
    "        orders['group']=='B',\n",
    "        np.logical_not(orders['visitor_id'].isin(abnormal_users)))]['revenue'])[1] \n",
    "\n",
    "# Посчитаем среднием значения \n",
    "\n",
    "\n",
    "mean_revenue_a = orders[np.logical_and(orders['group']=='A',\n",
    "                                       np.logical_not(orders['visitor_id'].\n",
    "                                                      isin(abnormal_users)))]['revenue'].mean() \n",
    "\n",
    "\n",
    "mean_revenue_b = orders[np.logical_and(orders['group']=='B',\n",
    "                                       np.logical_not(orders['visitor_id'].\n",
    "                                                      isin(abnormal_users)))]['revenue'].mean()\n",
    "\n",
    "\n",
    "print(f'Значение p-value : {result4}')  \n",
    "\n",
    "\n",
    "if result4 < alpha:\n",
    "    print(\"Отвергаем нулевую гипотезу\")\n",
    "else:\n",
    "    print(\"Не получилось отвергнуть нулевую гипотезу\")  \n",
    "\n",
    "    \n",
    "print('Средняя чек группы А: {:.1f}'.format(mean_revenue_a))\n",
    "print('Средний чек группы B: {:.1f}'.format(mean_revenue_b))\n",
    "print('Относительная разница показателей: {:.3f}'.format(mean_revenue_b / mean_revenue_a))"
   ]
  },
  {
   "cell_type": "markdown",
   "metadata": {},
   "source": [
    "Статистически значимых различий между средними чеками групп не оказалось при уровне значимости в 0.05"
   ]
  },
  {
   "cell_type": "markdown",
   "metadata": {},
   "source": [
    "Кумулятивное количество заказов на посетителя в группах хоть и не до конца стабилизировалось, но в группе B оно значительно выше, что подтверждается статистическим тестом. Большее количество заказов при одинаковой цене является положительным результатом теста. А так же ввиду больших затрат на проведение теста рекомендуется завершить его и зафиксировать победу группы B"
   ]
  },
  {
   "cell_type": "markdown",
   "metadata": {},
   "source": [
    "**Заключение:** В ходе работы была проведена приоритизация гипотез по фреймворкам ICE и RICE. Затем провел анализ\n",
    "результатов A/B-теста, построил графики кумулятивной выручки, среднего чека,\n",
    "конверсии по группам, а затем посчитал статистическую значимость различий конверсий\n",
    "и средних чеков по сырым и очищенным данным. На основании анализа мной было\n",
    "принято решение о нецелесообразности дальнейшего проведения теста."
   ]
  }
 ],
 "metadata": {
  "ExecuteTimeLog": [
   {
    "duration": 49,
    "start_time": "2023-05-25T17:50:48.294Z"
   },
   {
    "duration": 387,
    "start_time": "2023-05-25T17:51:16.317Z"
   },
   {
    "duration": 60,
    "start_time": "2023-05-25T17:51:18.052Z"
   },
   {
    "duration": 14,
    "start_time": "2023-05-25T17:51:22.536Z"
   },
   {
    "duration": 9,
    "start_time": "2023-05-25T17:56:48.752Z"
   },
   {
    "duration": 4,
    "start_time": "2023-05-25T17:56:56.532Z"
   },
   {
    "duration": 1370,
    "start_time": "2023-05-25T17:56:59.987Z"
   },
   {
    "duration": 8,
    "start_time": "2023-05-25T17:57:17.560Z"
   },
   {
    "duration": 11,
    "start_time": "2023-05-25T17:57:51.980Z"
   },
   {
    "duration": 3,
    "start_time": "2023-05-25T17:57:59.761Z"
   },
   {
    "duration": 8,
    "start_time": "2023-05-25T17:58:01.817Z"
   },
   {
    "duration": 4,
    "start_time": "2023-05-25T17:58:25.242Z"
   },
   {
    "duration": 7,
    "start_time": "2023-05-25T17:58:30.286Z"
   },
   {
    "duration": 3,
    "start_time": "2023-05-25T17:58:39.432Z"
   },
   {
    "duration": 7,
    "start_time": "2023-05-25T17:58:41.456Z"
   },
   {
    "duration": 3,
    "start_time": "2023-05-25T17:58:46.000Z"
   },
   {
    "duration": 26,
    "start_time": "2023-05-25T17:58:46.974Z"
   },
   {
    "duration": 3,
    "start_time": "2023-05-25T17:58:47.579Z"
   },
   {
    "duration": 8,
    "start_time": "2023-05-25T17:58:48.452Z"
   },
   {
    "duration": 6,
    "start_time": "2023-05-25T17:58:49.854Z"
   },
   {
    "duration": 9,
    "start_time": "2023-05-25T17:59:09.234Z"
   },
   {
    "duration": 5,
    "start_time": "2023-05-25T18:02:10.546Z"
   },
   {
    "duration": 10,
    "start_time": "2023-05-25T18:02:11.978Z"
   },
   {
    "duration": 14,
    "start_time": "2023-05-25T18:03:46.482Z"
   },
   {
    "duration": 10,
    "start_time": "2023-05-25T18:04:07.428Z"
   },
   {
    "duration": 8,
    "start_time": "2023-05-25T18:05:37.601Z"
   },
   {
    "duration": 9,
    "start_time": "2023-05-25T18:05:59.058Z"
   },
   {
    "duration": 12,
    "start_time": "2023-05-25T18:06:45.497Z"
   },
   {
    "duration": 1160,
    "start_time": "2023-05-25T18:07:54.274Z"
   },
   {
    "duration": 26,
    "start_time": "2023-05-25T18:09:23.908Z"
   },
   {
    "duration": 1341,
    "start_time": "2023-05-25T18:09:39.093Z"
   },
   {
    "duration": 11,
    "start_time": "2023-05-25T18:10:01.521Z"
   },
   {
    "duration": 1117,
    "start_time": "2023-05-25T18:10:21.498Z"
   },
   {
    "duration": 10,
    "start_time": "2023-05-25T18:10:34.648Z"
   },
   {
    "duration": 1225,
    "start_time": "2023-05-25T18:11:30.474Z"
   },
   {
    "duration": 8,
    "start_time": "2023-05-25T18:11:41.559Z"
   },
   {
    "duration": 3,
    "start_time": "2023-05-25T18:11:44.919Z"
   },
   {
    "duration": 6,
    "start_time": "2023-05-25T18:11:46.988Z"
   },
   {
    "duration": 9,
    "start_time": "2023-05-25T18:11:47.585Z"
   },
   {
    "duration": 5,
    "start_time": "2023-05-25T18:11:48.984Z"
   },
   {
    "duration": 1317,
    "start_time": "2023-05-25T18:11:53.283Z"
   },
   {
    "duration": 8,
    "start_time": "2023-05-25T18:12:05.718Z"
   },
   {
    "duration": 4,
    "start_time": "2023-05-25T18:12:16.342Z"
   },
   {
    "duration": 9,
    "start_time": "2023-05-25T18:12:46.851Z"
   },
   {
    "duration": 10,
    "start_time": "2023-05-25T18:13:36.666Z"
   },
   {
    "duration": 5,
    "start_time": "2023-05-25T18:13:55.585Z"
   },
   {
    "duration": 8,
    "start_time": "2023-05-25T18:13:57.295Z"
   },
   {
    "duration": 9,
    "start_time": "2023-05-25T18:13:59.488Z"
   },
   {
    "duration": 9,
    "start_time": "2023-05-25T18:14:00.907Z"
   },
   {
    "duration": 8,
    "start_time": "2023-05-25T18:14:20.478Z"
   },
   {
    "duration": 10,
    "start_time": "2023-05-25T18:14:32.495Z"
   },
   {
    "duration": 91,
    "start_time": "2023-05-25T18:16:27.582Z"
   },
   {
    "duration": 48,
    "start_time": "2023-05-25T18:17:12.847Z"
   },
   {
    "duration": 11,
    "start_time": "2023-05-25T18:17:16.934Z"
   },
   {
    "duration": 47,
    "start_time": "2023-05-25T18:18:24.019Z"
   },
   {
    "duration": 64,
    "start_time": "2023-05-25T18:18:25.595Z"
   },
   {
    "duration": 9,
    "start_time": "2023-05-25T18:18:33.354Z"
   },
   {
    "duration": 11,
    "start_time": "2023-05-25T18:22:00.783Z"
   },
   {
    "duration": 15,
    "start_time": "2023-05-25T18:24:11.882Z"
   },
   {
    "duration": 2,
    "start_time": "2023-05-25T18:24:46.809Z"
   },
   {
    "duration": 24,
    "start_time": "2023-05-25T18:24:51.554Z"
   },
   {
    "duration": 2707,
    "start_time": "2023-05-25T18:25:29.395Z"
   },
   {
    "duration": 1583,
    "start_time": "2023-05-25T18:25:58.914Z"
   },
   {
    "duration": 10,
    "start_time": "2023-05-25T18:26:05.578Z"
   },
   {
    "duration": 54,
    "start_time": "2023-05-25T18:38:17.488Z"
   },
   {
    "duration": 389,
    "start_time": "2023-05-25T18:38:37.590Z"
   },
   {
    "duration": 70,
    "start_time": "2023-05-25T18:38:37.981Z"
   },
   {
    "duration": 3,
    "start_time": "2023-05-25T18:38:38.053Z"
   },
   {
    "duration": 11,
    "start_time": "2023-05-25T18:38:38.058Z"
   },
   {
    "duration": 15,
    "start_time": "2023-05-25T18:38:38.070Z"
   },
   {
    "duration": 15,
    "start_time": "2023-05-25T18:38:38.086Z"
   },
   {
    "duration": 10,
    "start_time": "2023-05-25T18:38:38.102Z"
   },
   {
    "duration": 11,
    "start_time": "2023-05-25T18:38:38.113Z"
   },
   {
    "duration": 89,
    "start_time": "2023-05-25T18:38:38.125Z"
   },
   {
    "duration": 57,
    "start_time": "2023-05-25T18:38:38.216Z"
   },
   {
    "duration": 11,
    "start_time": "2023-05-25T18:38:38.274Z"
   },
   {
    "duration": 49,
    "start_time": "2023-05-25T18:38:38.287Z"
   },
   {
    "duration": 0,
    "start_time": "2023-05-25T18:38:38.337Z"
   },
   {
    "duration": 62,
    "start_time": "2023-05-25T18:38:43.856Z"
   },
   {
    "duration": 96,
    "start_time": "2023-05-25T18:39:13.237Z"
   },
   {
    "duration": 9,
    "start_time": "2023-05-25T18:39:20.762Z"
   },
   {
    "duration": 2554,
    "start_time": "2023-05-25T18:41:16.353Z"
   },
   {
    "duration": 10,
    "start_time": "2023-05-25T18:41:28.817Z"
   },
   {
    "duration": 5,
    "start_time": "2023-05-25T18:43:26.578Z"
   },
   {
    "duration": 134,
    "start_time": "2023-05-25T18:43:32.718Z"
   },
   {
    "duration": 119,
    "start_time": "2023-05-25T18:44:04.206Z"
   },
   {
    "duration": 9,
    "start_time": "2023-05-25T18:44:05.484Z"
   },
   {
    "duration": 64,
    "start_time": "2023-05-25T18:44:50.072Z"
   },
   {
    "duration": 104,
    "start_time": "2023-05-25T18:45:00.533Z"
   },
   {
    "duration": 10,
    "start_time": "2023-05-25T18:45:04.275Z"
   },
   {
    "duration": 3,
    "start_time": "2023-05-25T18:45:09.513Z"
   },
   {
    "duration": 39,
    "start_time": "2023-05-25T18:45:09.518Z"
   },
   {
    "duration": 3,
    "start_time": "2023-05-25T18:45:09.558Z"
   },
   {
    "duration": 7,
    "start_time": "2023-05-25T18:45:09.563Z"
   },
   {
    "duration": 9,
    "start_time": "2023-05-25T18:45:09.572Z"
   },
   {
    "duration": 9,
    "start_time": "2023-05-25T18:45:09.582Z"
   },
   {
    "duration": 9,
    "start_time": "2023-05-25T18:45:09.592Z"
   },
   {
    "duration": 17,
    "start_time": "2023-05-25T18:45:09.602Z"
   },
   {
    "duration": 43,
    "start_time": "2023-05-25T18:45:09.621Z"
   },
   {
    "duration": 15,
    "start_time": "2023-05-25T18:45:09.666Z"
   },
   {
    "duration": 5,
    "start_time": "2023-05-25T18:45:09.682Z"
   },
   {
    "duration": 137,
    "start_time": "2023-05-25T18:45:09.688Z"
   },
   {
    "duration": 9,
    "start_time": "2023-05-25T18:45:09.826Z"
   },
   {
    "duration": 105,
    "start_time": "2023-05-25T18:45:09.836Z"
   },
   {
    "duration": 22,
    "start_time": "2023-05-25T18:45:09.943Z"
   },
   {
    "duration": 168,
    "start_time": "2023-05-25T18:46:12.287Z"
   },
   {
    "duration": 14,
    "start_time": "2023-05-25T18:46:13.772Z"
   },
   {
    "duration": 7,
    "start_time": "2023-05-25T18:47:43.987Z"
   },
   {
    "duration": 469,
    "start_time": "2023-05-25T18:47:52.025Z"
   },
   {
    "duration": 6,
    "start_time": "2023-05-25T18:49:04.837Z"
   },
   {
    "duration": 4,
    "start_time": "2023-05-25T18:49:17.326Z"
   },
   {
    "duration": 188,
    "start_time": "2023-05-25T18:49:26.194Z"
   },
   {
    "duration": 18,
    "start_time": "2023-05-25T18:51:38.236Z"
   },
   {
    "duration": 2,
    "start_time": "2023-05-25T18:52:06.956Z"
   },
   {
    "duration": 8,
    "start_time": "2023-05-25T18:52:11.413Z"
   },
   {
    "duration": 14,
    "start_time": "2023-05-25T18:52:50.228Z"
   },
   {
    "duration": 145,
    "start_time": "2023-05-25T18:53:05.185Z"
   },
   {
    "duration": 3,
    "start_time": "2023-05-25T18:53:43.489Z"
   },
   {
    "duration": 242,
    "start_time": "2023-05-25T18:53:48.549Z"
   },
   {
    "duration": 219,
    "start_time": "2023-05-25T18:54:27.036Z"
   },
   {
    "duration": 216,
    "start_time": "2023-05-25T18:54:45.954Z"
   },
   {
    "duration": 114,
    "start_time": "2023-05-25T18:55:09.329Z"
   },
   {
    "duration": 210,
    "start_time": "2023-05-25T18:55:51.996Z"
   },
   {
    "duration": 234,
    "start_time": "2023-05-25T18:56:03.457Z"
   },
   {
    "duration": 229,
    "start_time": "2023-05-25T18:56:49.332Z"
   },
   {
    "duration": 273,
    "start_time": "2023-05-25T18:58:52.421Z"
   },
   {
    "duration": 288,
    "start_time": "2023-05-25T19:00:05.693Z"
   },
   {
    "duration": 319,
    "start_time": "2023-05-25T19:00:27.978Z"
   },
   {
    "duration": 223,
    "start_time": "2023-05-25T19:01:00.044Z"
   },
   {
    "duration": 57,
    "start_time": "2023-05-25T19:01:11.759Z"
   },
   {
    "duration": 225,
    "start_time": "2023-05-25T19:01:35.892Z"
   },
   {
    "duration": 256,
    "start_time": "2023-05-25T19:02:00.595Z"
   },
   {
    "duration": 228,
    "start_time": "2023-05-25T19:02:12.943Z"
   },
   {
    "duration": 264,
    "start_time": "2023-05-25T19:02:25.877Z"
   },
   {
    "duration": 684,
    "start_time": "2023-05-25T19:03:58.411Z"
   },
   {
    "duration": 10,
    "start_time": "2023-05-25T19:05:55.645Z"
   },
   {
    "duration": 224,
    "start_time": "2023-05-25T19:06:47.682Z"
   },
   {
    "duration": 10,
    "start_time": "2023-05-25T19:09:12.708Z"
   },
   {
    "duration": 249,
    "start_time": "2023-05-25T19:11:20.154Z"
   },
   {
    "duration": 270,
    "start_time": "2023-05-25T19:12:03.738Z"
   },
   {
    "duration": 240,
    "start_time": "2023-05-25T19:14:03.096Z"
   },
   {
    "duration": 231,
    "start_time": "2023-05-25T19:14:33.219Z"
   },
   {
    "duration": 343,
    "start_time": "2023-05-25T19:14:49.387Z"
   },
   {
    "duration": 315,
    "start_time": "2023-05-25T19:16:01.572Z"
   },
   {
    "duration": 255,
    "start_time": "2023-05-25T19:16:32.086Z"
   },
   {
    "duration": 10,
    "start_time": "2023-05-25T19:19:53.419Z"
   },
   {
    "duration": 872,
    "start_time": "2023-05-25T19:20:33.460Z"
   },
   {
    "duration": 6,
    "start_time": "2023-05-25T19:21:44.585Z"
   },
   {
    "duration": 13,
    "start_time": "2023-05-25T19:21:54.149Z"
   },
   {
    "duration": 316,
    "start_time": "2023-05-25T19:22:33.222Z"
   },
   {
    "duration": 764,
    "start_time": "2023-05-25T19:28:27.561Z"
   },
   {
    "duration": 10,
    "start_time": "2023-05-25T19:29:07.510Z"
   },
   {
    "duration": 9,
    "start_time": "2023-05-25T19:29:28.917Z"
   },
   {
    "duration": 140,
    "start_time": "2023-05-25T19:29:48.893Z"
   },
   {
    "duration": 253,
    "start_time": "2023-05-25T19:30:06.761Z"
   },
   {
    "duration": 235,
    "start_time": "2023-05-25T19:30:26.755Z"
   },
   {
    "duration": 6,
    "start_time": "2023-05-25T19:32:05.196Z"
   },
   {
    "duration": 3,
    "start_time": "2023-05-25T19:33:17.780Z"
   },
   {
    "duration": 41,
    "start_time": "2023-05-25T19:33:17.784Z"
   },
   {
    "duration": 3,
    "start_time": "2023-05-25T19:33:17.827Z"
   },
   {
    "duration": 9,
    "start_time": "2023-05-25T19:33:17.832Z"
   },
   {
    "duration": 13,
    "start_time": "2023-05-25T19:33:17.842Z"
   },
   {
    "duration": 10,
    "start_time": "2023-05-25T19:33:17.857Z"
   },
   {
    "duration": 7,
    "start_time": "2023-05-25T19:33:17.868Z"
   },
   {
    "duration": 25,
    "start_time": "2023-05-25T19:33:17.877Z"
   },
   {
    "duration": 38,
    "start_time": "2023-05-25T19:33:17.905Z"
   },
   {
    "duration": 15,
    "start_time": "2023-05-25T19:33:17.945Z"
   },
   {
    "duration": 5,
    "start_time": "2023-05-25T19:33:17.962Z"
   },
   {
    "duration": 12,
    "start_time": "2023-05-25T19:33:17.968Z"
   },
   {
    "duration": 153,
    "start_time": "2023-05-25T19:33:17.982Z"
   },
   {
    "duration": 119,
    "start_time": "2023-05-25T19:33:18.137Z"
   },
   {
    "duration": 6,
    "start_time": "2023-05-25T19:33:18.258Z"
   },
   {
    "duration": 22,
    "start_time": "2023-05-25T19:33:18.265Z"
   },
   {
    "duration": 9,
    "start_time": "2023-05-25T19:33:18.288Z"
   },
   {
    "duration": 268,
    "start_time": "2023-05-25T19:33:18.298Z"
   },
   {
    "duration": 0,
    "start_time": "2023-05-25T19:33:18.567Z"
   },
   {
    "duration": 0,
    "start_time": "2023-05-25T19:33:18.569Z"
   },
   {
    "duration": 0,
    "start_time": "2023-05-25T19:33:18.570Z"
   },
   {
    "duration": 0,
    "start_time": "2023-05-25T19:33:18.571Z"
   },
   {
    "duration": 256,
    "start_time": "2023-05-25T19:33:32.424Z"
   },
   {
    "duration": 260,
    "start_time": "2023-05-25T19:33:36.216Z"
   },
   {
    "duration": 264,
    "start_time": "2023-05-25T19:33:39.002Z"
   },
   {
    "duration": 299,
    "start_time": "2023-05-25T19:33:56.409Z"
   },
   {
    "duration": 189,
    "start_time": "2023-05-25T19:34:04.352Z"
   },
   {
    "duration": 160,
    "start_time": "2023-05-25T19:36:05.940Z"
   },
   {
    "duration": 187,
    "start_time": "2023-05-25T19:36:19.959Z"
   },
   {
    "duration": 175,
    "start_time": "2023-05-25T19:36:40.127Z"
   },
   {
    "duration": 182,
    "start_time": "2023-05-25T19:36:56.341Z"
   },
   {
    "duration": 287,
    "start_time": "2023-05-25T19:38:47.821Z"
   },
   {
    "duration": 10,
    "start_time": "2023-05-25T19:39:33.676Z"
   },
   {
    "duration": 15,
    "start_time": "2023-05-25T19:41:31.839Z"
   },
   {
    "duration": 286,
    "start_time": "2023-05-25T19:41:34.348Z"
   },
   {
    "duration": 341,
    "start_time": "2023-05-25T19:43:03.759Z"
   },
   {
    "duration": 305,
    "start_time": "2023-05-25T19:43:19.893Z"
   },
   {
    "duration": 295,
    "start_time": "2023-05-25T19:43:54.153Z"
   },
   {
    "duration": 13,
    "start_time": "2023-05-25T19:45:34.624Z"
   },
   {
    "duration": 4,
    "start_time": "2023-05-25T19:45:47.397Z"
   },
   {
    "duration": 183,
    "start_time": "2023-05-25T19:45:57.795Z"
   },
   {
    "duration": 7,
    "start_time": "2023-05-25T19:46:26.032Z"
   },
   {
    "duration": 264,
    "start_time": "2023-05-25T19:47:10.534Z"
   },
   {
    "duration": 296,
    "start_time": "2023-05-25T19:47:44.604Z"
   },
   {
    "duration": 335,
    "start_time": "2023-05-25T19:48:13.881Z"
   },
   {
    "duration": 285,
    "start_time": "2023-05-25T19:48:24.528Z"
   },
   {
    "duration": 307,
    "start_time": "2023-05-25T19:49:16.571Z"
   },
   {
    "duration": 291,
    "start_time": "2023-05-25T19:49:34.530Z"
   },
   {
    "duration": 316,
    "start_time": "2023-05-25T19:50:29.206Z"
   },
   {
    "duration": 293,
    "start_time": "2023-05-25T19:50:36.729Z"
   },
   {
    "duration": 11,
    "start_time": "2023-05-25T19:51:18.219Z"
   },
   {
    "duration": 12,
    "start_time": "2023-05-25T19:51:49.483Z"
   },
   {
    "duration": 142,
    "start_time": "2023-05-25T19:51:52.100Z"
   },
   {
    "duration": 143,
    "start_time": "2023-05-25T19:52:01.517Z"
   },
   {
    "duration": 21,
    "start_time": "2023-05-25T19:53:47.096Z"
   },
   {
    "duration": 8,
    "start_time": "2023-05-25T19:53:57.018Z"
   },
   {
    "duration": 143,
    "start_time": "2023-05-25T19:54:04.145Z"
   },
   {
    "duration": 135,
    "start_time": "2023-05-25T19:54:53.265Z"
   },
   {
    "duration": 18,
    "start_time": "2023-05-25T19:55:39.003Z"
   },
   {
    "duration": 203,
    "start_time": "2023-05-25T19:59:29.980Z"
   },
   {
    "duration": 340,
    "start_time": "2023-05-25T19:59:50.388Z"
   },
   {
    "duration": 139,
    "start_time": "2023-05-25T20:00:49.930Z"
   },
   {
    "duration": 793,
    "start_time": "2023-05-25T20:07:44.227Z"
   },
   {
    "duration": 4,
    "start_time": "2023-05-25T20:07:58.654Z"
   },
   {
    "duration": 2,
    "start_time": "2023-05-25T20:08:23.908Z"
   },
   {
    "duration": 4,
    "start_time": "2023-05-25T20:09:55.014Z"
   },
   {
    "duration": 3,
    "start_time": "2023-05-25T20:10:23.028Z"
   },
   {
    "duration": 147,
    "start_time": "2023-05-25T20:13:53.935Z"
   },
   {
    "duration": 160,
    "start_time": "2023-05-25T20:14:01.333Z"
   },
   {
    "duration": 252,
    "start_time": "2023-05-25T20:14:31.781Z"
   },
   {
    "duration": 149,
    "start_time": "2023-05-25T20:14:57.573Z"
   },
   {
    "duration": 134,
    "start_time": "2023-05-25T20:15:12.236Z"
   },
   {
    "duration": 143,
    "start_time": "2023-05-25T20:15:18.906Z"
   },
   {
    "duration": 138,
    "start_time": "2023-05-25T20:15:28.988Z"
   },
   {
    "duration": 62,
    "start_time": "2023-05-26T16:48:31.188Z"
   },
   {
    "duration": 46,
    "start_time": "2023-05-26T16:50:04.693Z"
   },
   {
    "duration": 5,
    "start_time": "2023-05-26T16:51:33.725Z"
   },
   {
    "duration": 818,
    "start_time": "2023-05-26T16:51:37.257Z"
   },
   {
    "duration": 70,
    "start_time": "2023-05-26T16:51:38.077Z"
   },
   {
    "duration": 3,
    "start_time": "2023-05-26T16:51:38.149Z"
   },
   {
    "duration": 8,
    "start_time": "2023-05-26T16:51:38.154Z"
   },
   {
    "duration": 13,
    "start_time": "2023-05-26T16:51:38.164Z"
   },
   {
    "duration": 10,
    "start_time": "2023-05-26T16:51:38.178Z"
   },
   {
    "duration": 11,
    "start_time": "2023-05-26T16:51:38.190Z"
   },
   {
    "duration": 73,
    "start_time": "2023-05-26T16:51:38.203Z"
   },
   {
    "duration": 55,
    "start_time": "2023-05-26T16:51:38.278Z"
   },
   {
    "duration": 6,
    "start_time": "2023-05-26T16:51:38.335Z"
   },
   {
    "duration": 9,
    "start_time": "2023-05-26T16:51:38.343Z"
   },
   {
    "duration": 196,
    "start_time": "2023-05-26T16:51:38.354Z"
   },
   {
    "duration": 139,
    "start_time": "2023-05-26T16:51:38.552Z"
   },
   {
    "duration": 7,
    "start_time": "2023-05-26T16:51:38.695Z"
   },
   {
    "duration": 20,
    "start_time": "2023-05-26T16:51:38.704Z"
   },
   {
    "duration": 5,
    "start_time": "2023-05-26T16:51:38.725Z"
   },
   {
    "duration": 294,
    "start_time": "2023-05-26T16:51:38.751Z"
   },
   {
    "duration": 222,
    "start_time": "2023-05-26T16:51:39.047Z"
   },
   {
    "duration": 43,
    "start_time": "2023-05-26T16:51:39.271Z"
   },
   {
    "duration": 0,
    "start_time": "2023-05-26T16:51:39.316Z"
   },
   {
    "duration": 0,
    "start_time": "2023-05-26T16:51:39.318Z"
   },
   {
    "duration": 0,
    "start_time": "2023-05-26T16:51:39.319Z"
   },
   {
    "duration": 0,
    "start_time": "2023-05-26T16:51:39.320Z"
   },
   {
    "duration": 0,
    "start_time": "2023-05-26T16:51:39.321Z"
   },
   {
    "duration": 0,
    "start_time": "2023-05-26T16:51:39.323Z"
   },
   {
    "duration": 0,
    "start_time": "2023-05-26T16:51:39.324Z"
   },
   {
    "duration": 0,
    "start_time": "2023-05-26T16:51:39.350Z"
   },
   {
    "duration": 0,
    "start_time": "2023-05-26T16:51:39.352Z"
   },
   {
    "duration": 0,
    "start_time": "2023-05-26T16:51:39.354Z"
   },
   {
    "duration": 16,
    "start_time": "2023-05-26T16:52:13.225Z"
   },
   {
    "duration": 455,
    "start_time": "2023-05-26T16:52:59.956Z"
   },
   {
    "duration": 223,
    "start_time": "2023-05-26T16:53:07.564Z"
   },
   {
    "duration": 319,
    "start_time": "2023-05-26T16:53:11.079Z"
   },
   {
    "duration": 168,
    "start_time": "2023-05-26T16:53:14.167Z"
   },
   {
    "duration": 4,
    "start_time": "2023-05-26T16:53:17.439Z"
   },
   {
    "duration": 8,
    "start_time": "2023-05-26T16:53:18.550Z"
   },
   {
    "duration": 159,
    "start_time": "2023-05-26T16:53:20.060Z"
   },
   {
    "duration": 4,
    "start_time": "2023-05-26T16:53:20.412Z"
   },
   {
    "duration": 3,
    "start_time": "2023-05-26T16:53:21.339Z"
   },
   {
    "duration": 17,
    "start_time": "2023-05-26T16:53:22.337Z"
   },
   {
    "duration": 18,
    "start_time": "2023-05-26T16:53:22.759Z"
   },
   {
    "duration": 8,
    "start_time": "2023-05-26T16:54:36.464Z"
   },
   {
    "duration": 8,
    "start_time": "2023-05-26T16:54:52.029Z"
   },
   {
    "duration": 382,
    "start_time": "2023-05-26T16:55:39.384Z"
   },
   {
    "duration": 35,
    "start_time": "2023-05-26T16:55:45.445Z"
   },
   {
    "duration": 46,
    "start_time": "2023-05-26T16:58:37.681Z"
   },
   {
    "duration": 25,
    "start_time": "2023-05-26T16:58:44.042Z"
   },
   {
    "duration": 35,
    "start_time": "2023-05-26T16:58:55.268Z"
   },
   {
    "duration": 10,
    "start_time": "2023-05-26T17:06:23.202Z"
   },
   {
    "duration": 9,
    "start_time": "2023-05-26T17:06:29.008Z"
   },
   {
    "duration": 23,
    "start_time": "2023-05-26T17:06:59.589Z"
   },
   {
    "duration": 14,
    "start_time": "2023-05-26T17:07:55.844Z"
   },
   {
    "duration": 14,
    "start_time": "2023-05-26T17:08:20.010Z"
   },
   {
    "duration": 16,
    "start_time": "2023-05-26T17:10:39.758Z"
   },
   {
    "duration": 63,
    "start_time": "2023-05-26T20:06:12.201Z"
   },
   {
    "duration": 15,
    "start_time": "2023-05-26T20:06:16.173Z"
   },
   {
    "duration": 1398,
    "start_time": "2023-05-26T20:06:19.315Z"
   },
   {
    "duration": 84,
    "start_time": "2023-05-26T20:06:20.716Z"
   },
   {
    "duration": 6,
    "start_time": "2023-05-26T20:06:20.803Z"
   },
   {
    "duration": 12,
    "start_time": "2023-05-26T20:06:20.811Z"
   },
   {
    "duration": 23,
    "start_time": "2023-05-26T20:06:20.825Z"
   },
   {
    "duration": 10,
    "start_time": "2023-05-26T20:06:20.850Z"
   },
   {
    "duration": 13,
    "start_time": "2023-05-26T20:06:20.861Z"
   },
   {
    "duration": 110,
    "start_time": "2023-05-26T20:06:20.882Z"
   },
   {
    "duration": 55,
    "start_time": "2023-05-26T20:06:20.995Z"
   },
   {
    "duration": 6,
    "start_time": "2023-05-26T20:06:21.053Z"
   },
   {
    "duration": 23,
    "start_time": "2023-05-26T20:06:21.061Z"
   },
   {
    "duration": 12,
    "start_time": "2023-05-26T20:06:21.092Z"
   },
   {
    "duration": 213,
    "start_time": "2023-05-26T20:06:21.106Z"
   },
   {
    "duration": 196,
    "start_time": "2023-05-26T20:06:21.322Z"
   },
   {
    "duration": 12,
    "start_time": "2023-05-26T20:06:21.520Z"
   },
   {
    "duration": 20,
    "start_time": "2023-05-26T20:06:21.535Z"
   },
   {
    "duration": 20,
    "start_time": "2023-05-26T20:06:21.557Z"
   },
   {
    "duration": 350,
    "start_time": "2023-05-26T20:06:21.586Z"
   },
   {
    "duration": 250,
    "start_time": "2023-05-26T20:06:21.938Z"
   },
   {
    "duration": 379,
    "start_time": "2023-05-26T20:06:22.194Z"
   },
   {
    "duration": 298,
    "start_time": "2023-05-26T20:06:22.575Z"
   },
   {
    "duration": 375,
    "start_time": "2023-05-26T20:06:22.879Z"
   },
   {
    "duration": 213,
    "start_time": "2023-05-26T20:06:23.256Z"
   },
   {
    "duration": 8,
    "start_time": "2023-05-26T20:06:23.476Z"
   },
   {
    "duration": 10,
    "start_time": "2023-05-26T20:06:23.486Z"
   },
   {
    "duration": 272,
    "start_time": "2023-05-26T20:06:23.501Z"
   },
   {
    "duration": 6,
    "start_time": "2023-05-26T20:06:23.777Z"
   },
   {
    "duration": 14,
    "start_time": "2023-05-26T20:06:23.788Z"
   },
   {
    "duration": 21,
    "start_time": "2023-05-26T20:06:23.804Z"
   },
   {
    "duration": 8,
    "start_time": "2023-05-26T20:06:23.828Z"
   },
   {
    "duration": 54,
    "start_time": "2023-05-26T20:06:23.839Z"
   },
   {
    "duration": 18,
    "start_time": "2023-05-26T20:06:23.895Z"
   },
   {
    "duration": 14,
    "start_time": "2023-05-26T20:06:23.915Z"
   },
   {
    "duration": 31,
    "start_time": "2023-05-26T20:06:23.931Z"
   },
   {
    "duration": 51,
    "start_time": "2023-05-26T20:06:23.964Z"
   },
   {
    "duration": 22,
    "start_time": "2023-05-26T20:06:24.017Z"
   },
   {
    "duration": 12,
    "start_time": "2023-05-26T20:07:30.919Z"
   },
   {
    "duration": 12,
    "start_time": "2023-05-26T20:09:45.934Z"
   },
   {
    "duration": 22,
    "start_time": "2023-05-26T20:15:05.720Z"
   },
   {
    "duration": 56,
    "start_time": "2023-05-26T20:28:00.722Z"
   },
   {
    "duration": 45,
    "start_time": "2023-05-26T20:29:33.215Z"
   },
   {
    "duration": 1110,
    "start_time": "2023-05-26T22:38:06.281Z"
   },
   {
    "duration": 28,
    "start_time": "2023-05-26T22:38:07.393Z"
   },
   {
    "duration": 5,
    "start_time": "2023-05-26T22:38:07.422Z"
   },
   {
    "duration": 9,
    "start_time": "2023-05-26T22:38:07.428Z"
   },
   {
    "duration": 13,
    "start_time": "2023-05-26T22:38:07.439Z"
   },
   {
    "duration": 10,
    "start_time": "2023-05-26T22:38:07.453Z"
   },
   {
    "duration": 21,
    "start_time": "2023-05-26T22:38:07.465Z"
   },
   {
    "duration": 44,
    "start_time": "2023-05-26T22:38:07.488Z"
   },
   {
    "duration": 14,
    "start_time": "2023-05-26T22:38:07.534Z"
   },
   {
    "duration": 11,
    "start_time": "2023-05-26T22:38:07.550Z"
   },
   {
    "duration": 12,
    "start_time": "2023-05-26T22:38:07.562Z"
   },
   {
    "duration": 6,
    "start_time": "2023-05-26T22:38:07.576Z"
   },
   {
    "duration": 9,
    "start_time": "2023-05-26T22:38:07.584Z"
   },
   {
    "duration": 173,
    "start_time": "2023-05-26T22:38:07.596Z"
   },
   {
    "duration": 113,
    "start_time": "2023-05-26T22:38:07.771Z"
   },
   {
    "duration": 7,
    "start_time": "2023-05-26T22:38:07.886Z"
   },
   {
    "duration": 22,
    "start_time": "2023-05-26T22:38:07.894Z"
   },
   {
    "duration": 17,
    "start_time": "2023-05-26T22:38:07.918Z"
   },
   {
    "duration": 264,
    "start_time": "2023-05-26T22:38:07.937Z"
   },
   {
    "duration": 222,
    "start_time": "2023-05-26T22:38:08.203Z"
   },
   {
    "duration": 325,
    "start_time": "2023-05-26T22:38:08.427Z"
   },
   {
    "duration": 222,
    "start_time": "2023-05-26T22:38:08.754Z"
   },
   {
    "duration": 289,
    "start_time": "2023-05-26T22:38:08.978Z"
   },
   {
    "duration": 152,
    "start_time": "2023-05-26T22:38:09.269Z"
   },
   {
    "duration": 5,
    "start_time": "2023-05-26T22:38:09.422Z"
   },
   {
    "duration": 7,
    "start_time": "2023-05-26T22:38:09.428Z"
   },
   {
    "duration": 166,
    "start_time": "2023-05-26T22:38:09.436Z"
   },
   {
    "duration": 5,
    "start_time": "2023-05-26T22:38:09.604Z"
   },
   {
    "duration": 3,
    "start_time": "2023-05-26T22:38:09.611Z"
   },
   {
    "duration": 9,
    "start_time": "2023-05-26T22:38:09.616Z"
   },
   {
    "duration": 27,
    "start_time": "2023-05-26T22:38:09.627Z"
   },
   {
    "duration": 22,
    "start_time": "2023-05-26T22:38:09.655Z"
   },
   {
    "duration": 11,
    "start_time": "2023-05-26T22:38:09.678Z"
   },
   {
    "duration": 9,
    "start_time": "2023-05-26T22:38:09.691Z"
   },
   {
    "duration": 10,
    "start_time": "2023-05-26T22:38:09.702Z"
   },
   {
    "duration": 55,
    "start_time": "2023-05-26T22:38:09.713Z"
   },
   {
    "duration": 15,
    "start_time": "2023-05-26T22:38:09.769Z"
   },
   {
    "duration": 81,
    "start_time": "2023-05-27T08:33:58.721Z"
   },
   {
    "duration": 1328,
    "start_time": "2023-05-27T08:34:03.518Z"
   },
   {
    "duration": 71,
    "start_time": "2023-05-27T08:34:06.166Z"
   },
   {
    "duration": 4,
    "start_time": "2023-05-27T08:34:07.332Z"
   },
   {
    "duration": 8,
    "start_time": "2023-05-27T08:34:07.914Z"
   },
   {
    "duration": 17,
    "start_time": "2023-05-27T08:34:14.603Z"
   },
   {
    "duration": 9,
    "start_time": "2023-05-27T08:34:21.551Z"
   },
   {
    "duration": 109,
    "start_time": "2023-05-27T08:38:11.622Z"
   },
   {
    "duration": 124,
    "start_time": "2023-05-27T08:39:32.894Z"
   },
   {
    "duration": 98,
    "start_time": "2023-05-27T08:39:34.335Z"
   },
   {
    "duration": 22,
    "start_time": "2023-05-27T08:39:34.956Z"
   },
   {
    "duration": 7,
    "start_time": "2023-05-27T08:39:37.149Z"
   },
   {
    "duration": 6,
    "start_time": "2023-05-27T08:39:43.335Z"
   },
   {
    "duration": 12,
    "start_time": "2023-05-27T08:41:30.193Z"
   },
   {
    "duration": 9,
    "start_time": "2023-05-27T08:41:41.720Z"
   },
   {
    "duration": 9,
    "start_time": "2023-05-27T08:41:54.404Z"
   },
   {
    "duration": 11,
    "start_time": "2023-05-27T08:42:16.235Z"
   },
   {
    "duration": 11,
    "start_time": "2023-05-27T08:42:29.683Z"
   },
   {
    "duration": 14,
    "start_time": "2023-05-27T08:45:43.828Z"
   },
   {
    "duration": 4,
    "start_time": "2023-05-27T08:45:53.982Z"
   },
   {
    "duration": 35,
    "start_time": "2023-05-27T08:45:53.989Z"
   },
   {
    "duration": 4,
    "start_time": "2023-05-27T08:45:54.027Z"
   },
   {
    "duration": 8,
    "start_time": "2023-05-27T08:45:54.033Z"
   },
   {
    "duration": 16,
    "start_time": "2023-05-27T08:45:54.043Z"
   },
   {
    "duration": 15,
    "start_time": "2023-05-27T08:45:54.060Z"
   },
   {
    "duration": 19,
    "start_time": "2023-05-27T08:45:54.077Z"
   },
   {
    "duration": 39,
    "start_time": "2023-05-27T08:45:54.098Z"
   },
   {
    "duration": 24,
    "start_time": "2023-05-27T08:45:54.140Z"
   },
   {
    "duration": 20,
    "start_time": "2023-05-27T08:45:54.166Z"
   },
   {
    "duration": 7,
    "start_time": "2023-05-27T08:45:54.188Z"
   },
   {
    "duration": 14,
    "start_time": "2023-05-27T08:45:54.197Z"
   },
   {
    "duration": 8,
    "start_time": "2023-05-27T08:45:54.214Z"
   },
   {
    "duration": 36,
    "start_time": "2023-05-27T08:45:54.227Z"
   },
   {
    "duration": 11,
    "start_time": "2023-05-27T08:45:54.265Z"
   },
   {
    "duration": 190,
    "start_time": "2023-05-27T08:45:54.278Z"
   },
   {
    "duration": 135,
    "start_time": "2023-05-27T08:45:54.470Z"
   },
   {
    "duration": 6,
    "start_time": "2023-05-27T08:45:54.607Z"
   },
   {
    "duration": 10,
    "start_time": "2023-05-27T08:45:54.615Z"
   },
   {
    "duration": 5,
    "start_time": "2023-05-27T08:45:54.627Z"
   },
   {
    "duration": 391,
    "start_time": "2023-05-27T08:45:54.634Z"
   },
   {
    "duration": 224,
    "start_time": "2023-05-27T08:45:55.028Z"
   },
   {
    "duration": 359,
    "start_time": "2023-05-27T08:45:55.256Z"
   },
   {
    "duration": 275,
    "start_time": "2023-05-27T08:45:55.617Z"
   },
   {
    "duration": 332,
    "start_time": "2023-05-27T08:45:55.894Z"
   },
   {
    "duration": 164,
    "start_time": "2023-05-27T08:45:56.228Z"
   },
   {
    "duration": 4,
    "start_time": "2023-05-27T08:45:56.394Z"
   },
   {
    "duration": 6,
    "start_time": "2023-05-27T08:45:56.400Z"
   },
   {
    "duration": 193,
    "start_time": "2023-05-27T08:45:56.407Z"
   },
   {
    "duration": 5,
    "start_time": "2023-05-27T08:45:56.601Z"
   },
   {
    "duration": 3,
    "start_time": "2023-05-27T08:45:56.608Z"
   },
   {
    "duration": 15,
    "start_time": "2023-05-27T08:45:56.614Z"
   },
   {
    "duration": 34,
    "start_time": "2023-05-27T08:45:56.631Z"
   },
   {
    "duration": 52,
    "start_time": "2023-05-27T08:45:56.667Z"
   },
   {
    "duration": 88,
    "start_time": "2023-05-27T08:45:56.721Z"
   },
   {
    "duration": 10,
    "start_time": "2023-05-27T08:45:56.811Z"
   },
   {
    "duration": 15,
    "start_time": "2023-05-27T08:45:56.823Z"
   },
   {
    "duration": 30,
    "start_time": "2023-05-27T08:45:56.858Z"
   },
   {
    "duration": 15,
    "start_time": "2023-05-27T08:45:56.889Z"
   },
   {
    "duration": 254,
    "start_time": "2023-05-27T08:47:30.547Z"
   },
   {
    "duration": 376,
    "start_time": "2023-05-27T08:49:26.727Z"
   },
   {
    "duration": 388,
    "start_time": "2023-05-27T08:49:51.126Z"
   },
   {
    "duration": 278,
    "start_time": "2023-05-27T08:51:42.697Z"
   },
   {
    "duration": 296,
    "start_time": "2023-05-27T08:53:30.632Z"
   },
   {
    "duration": 317,
    "start_time": "2023-05-27T08:54:00.418Z"
   },
   {
    "duration": 375,
    "start_time": "2023-05-27T08:56:57.601Z"
   },
   {
    "duration": 433,
    "start_time": "2023-05-27T08:57:49.041Z"
   },
   {
    "duration": 184,
    "start_time": "2023-05-27T09:00:27.640Z"
   },
   {
    "duration": 199,
    "start_time": "2023-05-27T09:00:46.310Z"
   },
   {
    "duration": 23,
    "start_time": "2023-05-27T09:02:47.603Z"
   },
   {
    "duration": 54,
    "start_time": "2023-05-27T09:03:11.399Z"
   },
   {
    "duration": 31,
    "start_time": "2023-05-27T09:04:15.486Z"
   },
   {
    "duration": 47,
    "start_time": "2023-05-27T09:05:59.335Z"
   },
   {
    "duration": 14,
    "start_time": "2023-05-27T09:08:34.800Z"
   },
   {
    "duration": 15,
    "start_time": "2023-05-27T09:08:43.502Z"
   },
   {
    "duration": 24,
    "start_time": "2023-05-27T09:08:52.886Z"
   },
   {
    "duration": 45,
    "start_time": "2023-05-27T09:09:06.588Z"
   },
   {
    "duration": 27,
    "start_time": "2023-05-27T09:09:12.310Z"
   },
   {
    "duration": 24,
    "start_time": "2023-05-27T09:09:33.003Z"
   },
   {
    "duration": 24,
    "start_time": "2023-05-27T09:09:51.199Z"
   },
   {
    "duration": 16,
    "start_time": "2023-05-27T09:10:10.302Z"
   },
   {
    "duration": 25,
    "start_time": "2023-05-27T09:10:35.106Z"
   },
   {
    "duration": 27,
    "start_time": "2023-05-27T09:10:40.296Z"
   },
   {
    "duration": 78,
    "start_time": "2023-05-27T09:18:50.133Z"
   },
   {
    "duration": 88,
    "start_time": "2023-05-27T09:30:57.856Z"
   },
   {
    "duration": 53,
    "start_time": "2024-01-09T15:05:03.262Z"
   },
   {
    "duration": 1195,
    "start_time": "2024-01-09T15:05:11.315Z"
   },
   {
    "duration": 61,
    "start_time": "2024-01-09T15:05:12.512Z"
   },
   {
    "duration": 4,
    "start_time": "2024-01-09T15:05:12.575Z"
   },
   {
    "duration": 17,
    "start_time": "2024-01-09T15:05:12.580Z"
   },
   {
    "duration": 12,
    "start_time": "2024-01-09T15:05:12.599Z"
   },
   {
    "duration": 11,
    "start_time": "2024-01-09T15:05:12.612Z"
   },
   {
    "duration": 14,
    "start_time": "2024-01-09T15:05:12.624Z"
   },
   {
    "duration": 102,
    "start_time": "2024-01-09T15:05:12.640Z"
   },
   {
    "duration": 52,
    "start_time": "2024-01-09T15:05:12.743Z"
   },
   {
    "duration": 10,
    "start_time": "2024-01-09T15:05:12.797Z"
   },
   {
    "duration": 6,
    "start_time": "2024-01-09T15:05:12.808Z"
   },
   {
    "duration": 9,
    "start_time": "2024-01-09T15:05:12.815Z"
   },
   {
    "duration": 7,
    "start_time": "2024-01-09T15:05:12.825Z"
   },
   {
    "duration": 11,
    "start_time": "2024-01-09T15:05:12.833Z"
   },
   {
    "duration": 7,
    "start_time": "2024-01-09T15:05:12.845Z"
   },
   {
    "duration": 156,
    "start_time": "2024-01-09T15:05:12.853Z"
   },
   {
    "duration": 117,
    "start_time": "2024-01-09T15:05:13.011Z"
   },
   {
    "duration": 5,
    "start_time": "2024-01-09T15:05:13.130Z"
   },
   {
    "duration": 19,
    "start_time": "2024-01-09T15:05:13.136Z"
   },
   {
    "duration": 18,
    "start_time": "2024-01-09T15:05:13.156Z"
   },
   {
    "duration": 313,
    "start_time": "2024-01-09T15:05:13.175Z"
   },
   {
    "duration": 205,
    "start_time": "2024-01-09T15:05:13.489Z"
   },
   {
    "duration": 351,
    "start_time": "2024-01-09T15:05:13.696Z"
   },
   {
    "duration": 223,
    "start_time": "2024-01-09T15:05:14.049Z"
   },
   {
    "duration": 332,
    "start_time": "2024-01-09T15:05:14.274Z"
   },
   {
    "duration": 151,
    "start_time": "2024-01-09T15:05:14.608Z"
   },
   {
    "duration": 5,
    "start_time": "2024-01-09T15:05:14.760Z"
   },
   {
    "duration": 9,
    "start_time": "2024-01-09T15:05:14.768Z"
   },
   {
    "duration": 193,
    "start_time": "2024-01-09T15:05:14.778Z"
   },
   {
    "duration": 0,
    "start_time": "2024-01-09T15:05:14.973Z"
   },
   {
    "duration": 0,
    "start_time": "2024-01-09T15:05:14.974Z"
   },
   {
    "duration": 0,
    "start_time": "2024-01-09T15:05:14.975Z"
   },
   {
    "duration": 0,
    "start_time": "2024-01-09T15:05:14.976Z"
   },
   {
    "duration": 0,
    "start_time": "2024-01-09T15:05:14.977Z"
   },
   {
    "duration": 0,
    "start_time": "2024-01-09T15:05:14.978Z"
   },
   {
    "duration": 0,
    "start_time": "2024-01-09T15:05:14.979Z"
   },
   {
    "duration": 0,
    "start_time": "2024-01-09T15:05:14.980Z"
   },
   {
    "duration": 0,
    "start_time": "2024-01-09T15:05:14.981Z"
   },
   {
    "duration": 0,
    "start_time": "2024-01-09T15:05:14.982Z"
   },
   {
    "duration": 156,
    "start_time": "2024-01-09T15:05:38.348Z"
   },
   {
    "duration": 234,
    "start_time": "2024-01-09T15:06:02.556Z"
   }
  ],
  "kernelspec": {
   "display_name": "Python 3 (ipykernel)",
   "language": "python",
   "name": "python3"
  },
  "language_info": {
   "codemirror_mode": {
    "name": "ipython",
    "version": 3
   },
   "file_extension": ".py",
   "mimetype": "text/x-python",
   "name": "python",
   "nbconvert_exporter": "python",
   "pygments_lexer": "ipython3",
   "version": "3.9.5"
  },
  "toc": {
   "base_numbering": 1,
   "nav_menu": {},
   "number_sections": false,
   "sideBar": true,
   "skip_h1_title": false,
   "title_cell": "Table of Contents",
   "title_sidebar": "Contents",
   "toc_cell": false,
   "toc_position": {
    "height": "606.364px",
    "left": "280px",
    "top": "110.781px",
    "width": "270.994px"
   },
   "toc_section_display": true,
   "toc_window_display": true
  }
 },
 "nbformat": 4,
 "nbformat_minor": 2
}
